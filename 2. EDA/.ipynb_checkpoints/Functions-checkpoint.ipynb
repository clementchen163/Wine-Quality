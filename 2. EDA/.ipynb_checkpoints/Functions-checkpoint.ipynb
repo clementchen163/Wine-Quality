{
 "cells": [
  {
   "cell_type": "code",
   "execution_count": null,
   "metadata": {},
   "outputs": [],
   "source": [
    "import matplotlib.pyplot as plt"
   ]
  },
  {
   "cell_type": "code",
   "execution_count": null,
   "metadata": {},
   "outputs": [],
   "source": [
    "def correlation_plot(df, x_label, y_label, x_unit, y_unit ):\n",
    "    '''\n",
    "    Plots a scatter plot of two features\n",
    "    ---Paramters---\n",
    "    df (Pandas DataFrame)\n",
    "    x_label (str) X axis column label\n",
    "    y_label (str) Y axis column label\n",
    "    x_unit (str) X axis units\n",
    "    y_unit (str) Y axis units\n",
    "    ---Returns---\n",
    "    None\n",
    "    '''\n",
    "    plt.scatter(df[x_label],df[y_label])\n",
    "    plt.xlabel(x_label.strip() + ' ' + x_unit.strip())\n",
    "    plt.ylabel(y_label.strip() + ' ' + y_unit.strip())\n",
    "    plt.title(x_label.strip() + ' vs '+ y_label.strip())\n",
    "    plt.show()\n",
    "    return None"
   ]
  }
 ],
 "metadata": {
  "kernelspec": {
   "display_name": "Python 3",
   "language": "python",
   "name": "python3"
  },
  "language_info": {
   "codemirror_mode": {
    "name": "ipython",
    "version": 3
   },
   "file_extension": ".py",
   "mimetype": "text/x-python",
   "name": "python",
   "nbconvert_exporter": "python",
   "pygments_lexer": "ipython3",
   "version": "3.8.3"
  }
 },
 "nbformat": 4,
 "nbformat_minor": 4
}
