{
 "cells": [
  {
   "cell_type": "code",
   "execution_count": 1,
   "metadata": {},
   "outputs": [],
   "source": [
    "import pandas as pd\n",
    "import matplotlib.pyplot as plt\n",
    "import numpy as np\n",
    "import pickle\n",
    "from sklearn.preprocessing import RobustScaler\n",
    "from sklearn.model_selection import train_test_split, GridSearchCV, KFold, StratifiedKFold, RandomizedSearchCV\n",
    "from sklearn.pipeline import Pipeline\n",
    "from sklearn.metrics import f1_score, roc_curve, roc_auc_score, accuracy_score\n",
    "from sklearn.linear_model import LogisticRegression\n",
    "from sklearn.decomposition import PCA\n",
    "from sklearn.ensemble import RandomForestClassifier, GradientBoostingClassifier\n",
    "from scipy.stats import randint, uniform\n",
    "from modfunctions import train_model_GridSearch, train_model_RandomizedSearch, plot_roc, export_file, record_results"
   ]
  },
  {
   "cell_type": "markdown",
   "metadata": {},
   "source": [
    "## Load data"
   ]
  },
  {
   "cell_type": "code",
   "execution_count": 2,
   "metadata": {},
   "outputs": [],
   "source": [
    "wine_path_red='../0. Project Data/Processed Data/2. scaled/scaled_red.csv'\n",
    "wine_path_white='../0. Project Data/Processed Data/2. scaled/scaled_white.csv'\n",
    "r_df=pd.read_csv(wine_path_red, sep=',')\n",
    "w_df=pd.read_csv(wine_path_white, sep=',')\n",
    "df=pd.concat([r_df,w_df])"
   ]
  },
  {
   "cell_type": "markdown",
   "metadata": {},
   "source": [
    "## Binning data"
   ]
  },
  {
   "cell_type": "markdown",
   "metadata": {},
   "source": [
    "Our response variable comes from a 'quality' distribution that ranges from 0-10. In order to apply a binary Logistic regression model to this dataset, we have to bin our response variable into 'low' and 'high' quality. Here we bin the 0-6 quality wines into 'low' and the 7-10 quality wines into 'high'."
   ]
  },
  {
   "cell_type": "code",
   "execution_count": 3,
   "metadata": {},
   "outputs": [
    {
     "data": {
      "text/plain": [
       "3      30\n",
       "4     206\n",
       "5    1752\n",
       "6    2323\n",
       "7     856\n",
       "8     148\n",
       "9       5\n",
       "Name: quality, dtype: int64"
      ]
     },
     "execution_count": 3,
     "metadata": {},
     "output_type": "execute_result"
    }
   ],
   "source": [
    "quality_freq=df['quality'].value_counts().sort_index()\n",
    "quality_freq"
   ]
  },
  {
   "cell_type": "code",
   "execution_count": 4,
   "metadata": {},
   "outputs": [],
   "source": [
    "ranges=[0,6,10]\n",
    "group_names=['low', 'high']\n",
    "df['quality_bin']=pd.cut(df['quality'], bins=ranges, labels=group_names)"
   ]
  },
  {
   "cell_type": "code",
   "execution_count": 5,
   "metadata": {},
   "outputs": [
    {
     "data": {
      "text/plain": [
       "low     4311\n",
       "high    1009\n",
       "Name: quality_bin, dtype: int64"
      ]
     },
     "execution_count": 5,
     "metadata": {},
     "output_type": "execute_result"
    }
   ],
   "source": [
    "df['quality_bin'].value_counts().sort_index()"
   ]
  },
  {
   "cell_type": "code",
   "execution_count": 6,
   "metadata": {},
   "outputs": [
    {
     "data": {
      "text/html": [
       "<div>\n",
       "<style scoped>\n",
       "    .dataframe tbody tr th:only-of-type {\n",
       "        vertical-align: middle;\n",
       "    }\n",
       "\n",
       "    .dataframe tbody tr th {\n",
       "        vertical-align: top;\n",
       "    }\n",
       "\n",
       "    .dataframe thead th {\n",
       "        text-align: right;\n",
       "    }\n",
       "</style>\n",
       "<table border=\"1\" class=\"dataframe\">\n",
       "  <thead>\n",
       "    <tr style=\"text-align: right;\">\n",
       "      <th></th>\n",
       "      <th>fixed acidity</th>\n",
       "      <th>volatile acidity</th>\n",
       "      <th>citric acid</th>\n",
       "      <th>residual sugar</th>\n",
       "      <th>chlorides</th>\n",
       "      <th>free sulfur dioxide</th>\n",
       "      <th>total sulfur dioxide</th>\n",
       "      <th>density</th>\n",
       "      <th>pH</th>\n",
       "      <th>sulphates</th>\n",
       "      <th>alcohol</th>\n",
       "      <th>quality</th>\n",
       "      <th>wine_type</th>\n",
       "      <th>quality_bin</th>\n",
       "    </tr>\n",
       "  </thead>\n",
       "  <tbody>\n",
       "    <tr>\n",
       "      <th>0</th>\n",
       "      <td>0.247788</td>\n",
       "      <td>0.397260</td>\n",
       "      <td>0.00</td>\n",
       "      <td>0.068493</td>\n",
       "      <td>0.106845</td>\n",
       "      <td>0.140845</td>\n",
       "      <td>0.098940</td>\n",
       "      <td>0.567548</td>\n",
       "      <td>0.606299</td>\n",
       "      <td>0.137725</td>\n",
       "      <td>0.153846</td>\n",
       "      <td>5</td>\n",
       "      <td>red</td>\n",
       "      <td>low</td>\n",
       "    </tr>\n",
       "    <tr>\n",
       "      <th>1</th>\n",
       "      <td>0.283186</td>\n",
       "      <td>0.520548</td>\n",
       "      <td>0.00</td>\n",
       "      <td>0.116438</td>\n",
       "      <td>0.143573</td>\n",
       "      <td>0.338028</td>\n",
       "      <td>0.215548</td>\n",
       "      <td>0.494126</td>\n",
       "      <td>0.362205</td>\n",
       "      <td>0.209581</td>\n",
       "      <td>0.215385</td>\n",
       "      <td>5</td>\n",
       "      <td>red</td>\n",
       "      <td>low</td>\n",
       "    </tr>\n",
       "    <tr>\n",
       "      <th>2</th>\n",
       "      <td>0.283186</td>\n",
       "      <td>0.438356</td>\n",
       "      <td>0.04</td>\n",
       "      <td>0.095890</td>\n",
       "      <td>0.133556</td>\n",
       "      <td>0.197183</td>\n",
       "      <td>0.169611</td>\n",
       "      <td>0.508811</td>\n",
       "      <td>0.409449</td>\n",
       "      <td>0.191617</td>\n",
       "      <td>0.215385</td>\n",
       "      <td>5</td>\n",
       "      <td>red</td>\n",
       "      <td>low</td>\n",
       "    </tr>\n",
       "    <tr>\n",
       "      <th>3</th>\n",
       "      <td>0.584071</td>\n",
       "      <td>0.109589</td>\n",
       "      <td>0.56</td>\n",
       "      <td>0.068493</td>\n",
       "      <td>0.105175</td>\n",
       "      <td>0.225352</td>\n",
       "      <td>0.190813</td>\n",
       "      <td>0.582232</td>\n",
       "      <td>0.330709</td>\n",
       "      <td>0.149701</td>\n",
       "      <td>0.215385</td>\n",
       "      <td>6</td>\n",
       "      <td>red</td>\n",
       "      <td>low</td>\n",
       "    </tr>\n",
       "    <tr>\n",
       "      <th>4</th>\n",
       "      <td>0.247788</td>\n",
       "      <td>0.369863</td>\n",
       "      <td>0.00</td>\n",
       "      <td>0.061644</td>\n",
       "      <td>0.105175</td>\n",
       "      <td>0.169014</td>\n",
       "      <td>0.120141</td>\n",
       "      <td>0.567548</td>\n",
       "      <td>0.606299</td>\n",
       "      <td>0.137725</td>\n",
       "      <td>0.153846</td>\n",
       "      <td>5</td>\n",
       "      <td>red</td>\n",
       "      <td>low</td>\n",
       "    </tr>\n",
       "  </tbody>\n",
       "</table>\n",
       "</div>"
      ],
      "text/plain": [
       "   fixed acidity  volatile acidity  citric acid  residual sugar  chlorides  \\\n",
       "0       0.247788          0.397260         0.00        0.068493   0.106845   \n",
       "1       0.283186          0.520548         0.00        0.116438   0.143573   \n",
       "2       0.283186          0.438356         0.04        0.095890   0.133556   \n",
       "3       0.584071          0.109589         0.56        0.068493   0.105175   \n",
       "4       0.247788          0.369863         0.00        0.061644   0.105175   \n",
       "\n",
       "   free sulfur dioxide  total sulfur dioxide   density        pH  sulphates  \\\n",
       "0             0.140845              0.098940  0.567548  0.606299   0.137725   \n",
       "1             0.338028              0.215548  0.494126  0.362205   0.209581   \n",
       "2             0.197183              0.169611  0.508811  0.409449   0.191617   \n",
       "3             0.225352              0.190813  0.582232  0.330709   0.149701   \n",
       "4             0.169014              0.120141  0.567548  0.606299   0.137725   \n",
       "\n",
       "    alcohol  quality wine_type quality_bin  \n",
       "0  0.153846        5       red         low  \n",
       "1  0.215385        5       red         low  \n",
       "2  0.215385        5       red         low  \n",
       "3  0.215385        6       red         low  \n",
       "4  0.153846        5       red         low  "
      ]
     },
     "execution_count": 6,
     "metadata": {},
     "output_type": "execute_result"
    }
   ],
   "source": [
    "df.head()"
   ]
  },
  {
   "cell_type": "markdown",
   "metadata": {},
   "source": [
    "## Modeling Red Wine"
   ]
  },
  {
   "cell_type": "code",
   "execution_count": 7,
   "metadata": {},
   "outputs": [],
   "source": [
    "y_red = df[df['wine_type']=='red']['quality_bin']\n",
    "X_red = df.drop(['quality', 'quality_bin', 'wine_type'], axis=1)[df['wine_type']=='red']\n",
    "X_train_red, X_test_red, y_train_red, y_test_red= train_test_split(X_red, y_red, test_size=.2,random_state=123)\n",
    "num_features=X_red.shape[1]\n",
    "red_scores=[]"
   ]
  },
  {
   "cell_type": "markdown",
   "metadata": {},
   "source": [
    "### Logistic Regression"
   ]
  },
  {
   "cell_type": "markdown",
   "metadata": {},
   "source": [
    "We set up a pipeline that includes scaling the data using RobustScaler and a grid search over the the parameters penalty (lasso vs ridge regression regularization) and C (regularization strength)"
   ]
  },
  {
   "cell_type": "code",
   "execution_count": 8,
   "metadata": {},
   "outputs": [
    {
     "data": {
      "text/plain": [
       "{'LogReg__C': 10.0, 'LogReg__penalty': 'l2'}"
      ]
     },
     "execution_count": 8,
     "metadata": {},
     "output_type": "execute_result"
    }
   ],
   "source": [
    "LR_steps=[('LogReg', LogisticRegression(solver='liblinear'))]\n",
    "LR_parameters= {'LogReg__penalty': ['l1', 'l2'],\n",
    "                'LogReg__C': [0.01, 0.1, 1.0, 10.0, 100.0,1000.0]\n",
    "               }\n",
    "LR_cv_red=train_model_GridSearch(X_train_red, y_train_red, LR_steps, LR_parameters)\n",
    "LR_cv_red.best_params_"
   ]
  },
  {
   "cell_type": "markdown",
   "metadata": {},
   "source": [
    "#### Logistic Regression ROC Curve"
   ]
  },
  {
   "cell_type": "code",
   "execution_count": 9,
   "metadata": {},
   "outputs": [
    {
     "data": {
      "image/png": "[encoded data removed]",
      "text/plain": [
       "<Figure size 432x288 with 1 Axes>"
      ]
     },
     "metadata": {
      "needs_background": "light"
     },
     "output_type": "display_data"
    }
   ],
   "source": [
    "plot_roc(LR_cv_red, X_test_red, y_test_red)"
   ]
  },
  {
   "cell_type": "code",
   "execution_count": 10,
   "metadata": {},
   "outputs": [],
   "source": [
    "LR_results_red=record_results('Logistic Regression', LR_cv_red, X_test_red, y_test_red)\n",
    "red_scores.append(LR_results_red)"
   ]
  },
  {
   "cell_type": "markdown",
   "metadata": {},
   "source": [
    "### PCA with Logistic Regression"
   ]
  },
  {
   "cell_type": "markdown",
   "metadata": {},
   "source": [
    "This pipeline is the same as the previous but with added PCA preprocessing step."
   ]
  },
  {
   "cell_type": "code",
   "execution_count": 11,
   "metadata": {},
   "outputs": [
    {
     "data": {
      "text/plain": [
       "{'LogReg__C': 10.0, 'LogReg__penalty': 'l2', 'pca__n_components': 9}"
      ]
     },
     "execution_count": 11,
     "metadata": {},
     "output_type": "execute_result"
    }
   ],
   "source": [
    "PCA_LR_steps=[('pca',PCA()),('LogReg', LogisticRegression(solver='liblinear'))]\n",
    "PCA_LR_parameters={'pca__n_components':list(np.arange(1,num_features+1)),\n",
    "                   'LogReg__penalty': ['l1', 'l2'],\n",
    "                   'LogReg__C': [0.01, 0.1, 1.0, 10.0, 100.0,1000.0]\n",
    "                  }\n",
    "PCA_LR_cv_red=train_model_GridSearch(X_train_red, y_train_red, PCA_LR_steps, PCA_LR_parameters)\n",
    "PCA_LR_cv_red.best_params_"
   ]
  },
  {
   "cell_type": "markdown",
   "metadata": {},
   "source": [
    "#### PCA Logistic Regression ROC Curve"
   ]
  },
  {
   "cell_type": "code",
   "execution_count": 12,
   "metadata": {},
   "outputs": [
    {
     "data": {
      "image/png": "[encoded data removed]",
      "text/plain": [
       "<Figure size 432x288 with 1 Axes>"
      ]
     },
     "metadata": {
      "needs_background": "light"
     },
     "output_type": "display_data"
    }
   ],
   "source": [
    "plot_roc(PCA_LR_cv_red, X_test_red, y_test_red)"
   ]
  },
  {
   "cell_type": "code",
   "execution_count": 13,
   "metadata": {},
   "outputs": [],
   "source": [
    "PCA_LR_results_red=record_results('PCA Logistic Regression', PCA_LR_cv_red, X_test_red, y_test_red)\n",
    "red_scores.append(PCA_LR_results_red)"
   ]
  },
  {
   "cell_type": "markdown",
   "metadata": {},
   "source": [
    "### Random Forest"
   ]
  },
  {
   "cell_type": "markdown",
   "metadata": {},
   "source": [
    "We set up a Random Forest model that employs a RandomizedSearch CV over the the parameters \n",
    "\n",
    "n_estimators : number of trees in the forest\n",
    "\n",
    "max_depth : maximum depth of the tree\n",
    "\n",
    "min_samples_split : minimum number of samples required to split a node\n",
    "\n",
    "min_samples_leaf : minimum number of samples required to be at a leaf node\n",
    "\n",
    "max_features : number of features to consider when looking for the best split\n",
    "\n",
    "criterion : loss function to measure the quality of a split"
   ]
  },
  {
   "cell_type": "code",
   "execution_count": 14,
   "metadata": {},
   "outputs": [
    {
     "data": {
      "text/plain": [
       "{'randomForest__criterion': 'entropy',\n",
       " 'randomForest__max_depth': 58,\n",
       " 'randomForest__max_features': 4,\n",
       " 'randomForest__min_samples_leaf': 8,\n",
       " 'randomForest__min_samples_split': 5,\n",
       " 'randomForest__n_estimators': 203}"
      ]
     },
     "execution_count": 14,
     "metadata": {},
     "output_type": "execute_result"
    }
   ],
   "source": [
    "RF_steps=[('randomForest', RandomForestClassifier())]\n",
    "RF_parameters={'randomForest__n_estimators': randint(20, 300), \n",
    "             'randomForest__max_depth': randint(10,100),\n",
    "             'randomForest__min_samples_split': randint(2,10),\n",
    "             'randomForest__min_samples_leaf' : randint(1,10),\n",
    "             'randomForest__max_features' : np.arange(num_features)+1,\n",
    "             'randomForest__criterion': ['gini', 'entropy']\n",
    "              }\n",
    "RF_cv_red=train_model_RandomizedSearch(X_train_red, y_train_red, RF_steps, RF_parameters)\n",
    "RF_cv_red.best_params_"
   ]
  },
  {
   "cell_type": "markdown",
   "metadata": {},
   "source": [
    "#### Random Forest ROC Curve"
   ]
  },
  {
   "cell_type": "code",
   "execution_count": 15,
   "metadata": {},
   "outputs": [
    {
     "data": {
      "image/png": "[encoded data removed]",
      "text/plain": [
       "<Figure size 432x288 with 1 Axes>"
      ]
     },
     "metadata": {
      "needs_background": "light"
     },
     "output_type": "display_data"
    }
   ],
   "source": [
    "plot_roc(RF_cv_red, X_test_red, y_test_red)"
   ]
  },
  {
   "cell_type": "code",
   "execution_count": 16,
   "metadata": {},
   "outputs": [],
   "source": [
    "RF_results_red=record_results('Random Forest', RF_cv_red, X_test_red, y_test_red)\n",
    "red_scores.append(RF_results_red)"
   ]
  },
  {
   "cell_type": "markdown",
   "metadata": {},
   "source": [
    "### Gradient Boosted Tree"
   ]
  },
  {
   "cell_type": "markdown",
   "metadata": {},
   "source": [
    "We set up a Gradient Boosted Tree model that employs a RandomizedSearchCV over the the parameters \n",
    "\n",
    "learning_rate : how fast individual trees learn \n",
    "\n",
    "n_estimators : number of boosted trees\n",
    "\n",
    "subsample : fraction of data used to train each tree\n",
    "\n",
    "min_samples_split : minimum number of samples required to split a node\n",
    "\n",
    "max_depth : max depth of a tree\n",
    "\n",
    "max_features : number of features to consider when looking for the best split\n",
    "\n",
    "min_samples_leaf : minimum number of samples required to be at a leaf node"
   ]
  },
  {
   "cell_type": "code",
   "execution_count": 17,
   "metadata": {},
   "outputs": [
    {
     "data": {
      "text/plain": [
       "{'GBT__learning_rate': 0.3516205136085174,\n",
       " 'GBT__max_depth': 6,\n",
       " 'GBT__max_features': 2,\n",
       " 'GBT__min_samples_leaf': 5,\n",
       " 'GBT__min_samples_split': 5,\n",
       " 'GBT__n_estimators': 771,\n",
       " 'GBT__subsample': 0.521010875426266}"
      ]
     },
     "execution_count": 17,
     "metadata": {},
     "output_type": "execute_result"
    }
   ],
   "source": [
    "GBT_steps=[('GBT', GradientBoostingClassifier())]\n",
    "GBT_parameters= {'GBT__learning_rate': uniform(0,3),\n",
    "                 'GBT__n_estimators': randint(1,1000),\n",
    "                 'GBT__subsample' : uniform(0,1),\n",
    "                 'GBT__min_samples_split': randint(2,10),\n",
    "                 'GBT__max_depth' : randint(1,10),\n",
    "                 'GBT__max_features' : np.arange(num_features)+1,\n",
    "                 'GBT__min_samples_leaf': randint(1,10)\n",
    "                }\n",
    "GBT_cv_red=train_model_RandomizedSearch(X_train_red, y_train_red, GBT_steps, GBT_parameters)\n",
    "GBT_cv_red.best_params_"
   ]
  },
  {
   "cell_type": "markdown",
   "metadata": {},
   "source": [
    "#### Gradient Boosted Tree ROC Curve"
   ]
  },
  {
   "cell_type": "code",
   "execution_count": 18,
   "metadata": {},
   "outputs": [
    {
     "data": {
      "image/png": "[encoded data removed]",
      "text/plain": [
       "<Figure size 432x288 with 1 Axes>"
      ]
     },
     "metadata": {
      "needs_background": "light"
     },
     "output_type": "display_data"
    }
   ],
   "source": [
    "plot_roc(GBT_cv_red, X_test_red, y_test_red)"
   ]
  },
  {
   "cell_type": "code",
   "execution_count": 19,
   "metadata": {},
   "outputs": [],
   "source": [
    "GBT_results_red=record_results('Gradient Boosted Tree', GBT_cv_red, X_test_red, y_test_red)\n",
    "red_scores.append(GBT_results_red)"
   ]
  },
  {
   "cell_type": "markdown",
   "metadata": {},
   "source": [
    "### Red Wine Results"
   ]
  },
  {
   "cell_type": "code",
   "execution_count": 20,
   "metadata": {},
   "outputs": [
    {
     "data": {
      "text/html": [
       "<div>\n",
       "<style scoped>\n",
       "    .dataframe tbody tr th:only-of-type {\n",
       "        vertical-align: middle;\n",
       "    }\n",
       "\n",
       "    .dataframe tbody tr th {\n",
       "        vertical-align: top;\n",
       "    }\n",
       "\n",
       "    .dataframe thead th {\n",
       "        text-align: right;\n",
       "    }\n",
       "</style>\n",
       "<table border=\"1\" class=\"dataframe\">\n",
       "  <thead>\n",
       "    <tr style=\"text-align: right;\">\n",
       "      <th></th>\n",
       "      <th>Model Name</th>\n",
       "      <th>f1 score</th>\n",
       "      <th>test_acc</th>\n",
       "      <th>best_score_</th>\n",
       "      <th>roc</th>\n",
       "    </tr>\n",
       "    <tr>\n",
       "      <th>Red Wine</th>\n",
       "      <th></th>\n",
       "      <th></th>\n",
       "      <th></th>\n",
       "      <th></th>\n",
       "      <th></th>\n",
       "    </tr>\n",
       "  </thead>\n",
       "  <tbody>\n",
       "    <tr>\n",
       "      <th>0</th>\n",
       "      <td>Logistic Regression</td>\n",
       "      <td>0.415094</td>\n",
       "      <td>0.886029</td>\n",
       "      <td>0.871520</td>\n",
       "      <td>0.867377</td>\n",
       "    </tr>\n",
       "    <tr>\n",
       "      <th>1</th>\n",
       "      <td>PCA Logistic Regression</td>\n",
       "      <td>0.415094</td>\n",
       "      <td>0.886029</td>\n",
       "      <td>0.872081</td>\n",
       "      <td>0.861544</td>\n",
       "    </tr>\n",
       "    <tr>\n",
       "      <th>2</th>\n",
       "      <td>Random Forest</td>\n",
       "      <td>0.452830</td>\n",
       "      <td>0.893382</td>\n",
       "      <td>0.878996</td>\n",
       "      <td>0.874223</td>\n",
       "    </tr>\n",
       "    <tr>\n",
       "      <th>3</th>\n",
       "      <td>Gradient Boosted Tree</td>\n",
       "      <td>0.419355</td>\n",
       "      <td>0.867647</td>\n",
       "      <td>0.862626</td>\n",
       "      <td>0.839102</td>\n",
       "    </tr>\n",
       "  </tbody>\n",
       "</table>\n",
       "</div>"
      ],
      "text/plain": [
       "                       Model Name  f1 score  test_acc  best_score_       roc\n",
       "Red Wine                                                                    \n",
       "0             Logistic Regression  0.415094  0.886029     0.871520  0.867377\n",
       "1         PCA Logistic Regression  0.415094  0.886029     0.872081  0.861544\n",
       "2                   Random Forest  0.452830  0.893382     0.878996  0.874223\n",
       "3           Gradient Boosted Tree  0.419355  0.867647     0.862626  0.839102"
      ]
     },
     "execution_count": 20,
     "metadata": {},
     "output_type": "execute_result"
    }
   ],
   "source": [
    "red_results= pd.DataFrame(red_scores, columns=['Model Name', 'f1 score', 'test_acc', 'best_score_', 'roc'])\n",
    "red_results.index.name='Red Wine'\n",
    "red_results"
   ]
  },
  {
   "cell_type": "markdown",
   "metadata": {},
   "source": [
    "## Modeling White Wine"
   ]
  },
  {
   "cell_type": "code",
   "execution_count": 21,
   "metadata": {},
   "outputs": [],
   "source": [
    "y_white = df[df['wine_type']=='white']['quality_bin']\n",
    "X_white = df.drop(['quality', 'quality_bin', 'wine_type'], axis=1)[df['wine_type']=='white']\n",
    "X_train_white, X_test_white, y_train_white, y_test_white= train_test_split(X_white, y_white, test_size=.2,random_state=123)\n",
    "num_features=X_white.shape[1]\n",
    "white_scores=[]"
   ]
  },
  {
   "cell_type": "markdown",
   "metadata": {},
   "source": [
    "### Logistic Regression"
   ]
  },
  {
   "cell_type": "code",
   "execution_count": 22,
   "metadata": {},
   "outputs": [
    {
     "data": {
      "text/plain": [
       "{'LogReg__C': 1000.0, 'LogReg__penalty': 'l1'}"
      ]
     },
     "execution_count": 22,
     "metadata": {},
     "output_type": "execute_result"
    }
   ],
   "source": [
    "LR_steps=[('LogReg', LogisticRegression(solver='liblinear'))]\n",
    "LR_parameters= {'LogReg__penalty': ['l1', 'l2'],\n",
    "                'LogReg__C': [0.01, 0.1, 1.0, 10.0, 100.0,1000.0]\n",
    "               }\n",
    "LR_cv_white=train_model_GridSearch(X_train_white, y_train_white, LR_steps, LR_parameters)\n",
    "LR_cv_white.best_params_"
   ]
  },
  {
   "cell_type": "markdown",
   "metadata": {},
   "source": [
    "#### Logistic Regression ROC Curve"
   ]
  },
  {
   "cell_type": "code",
   "execution_count": 23,
   "metadata": {},
   "outputs": [
    {
     "data": {
      "image/png": "[encoded data removed]",
      "text/plain": [
       "<Figure size 432x288 with 1 Axes>"
      ]
     },
     "metadata": {
      "needs_background": "light"
     },
     "output_type": "display_data"
    }
   ],
   "source": [
    "plot_roc(LR_cv_white, X_test_white, y_test_white)"
   ]
  },
  {
   "cell_type": "code",
   "execution_count": 24,
   "metadata": {},
   "outputs": [],
   "source": [
    "LR_results_white=record_results('Logistic Regression', LR_cv_white, X_test_white, y_test_white)\n",
    "white_scores.append(LR_results_white)"
   ]
  },
  {
   "cell_type": "markdown",
   "metadata": {},
   "source": [
    "### PCA with Logistic Regression"
   ]
  },
  {
   "cell_type": "code",
   "execution_count": 25,
   "metadata": {},
   "outputs": [
    {
     "data": {
      "text/plain": [
       "{'LogReg__C': 1000.0, 'LogReg__penalty': 'l1', 'pca__n_components': 11}"
      ]
     },
     "execution_count": 25,
     "metadata": {},
     "output_type": "execute_result"
    }
   ],
   "source": [
    "PCA_LR_steps=[('pca',PCA()),('LogReg', LogisticRegression(solver='liblinear'))]\n",
    "PCA_LR_parameters={'pca__n_components':list(np.arange(1,num_features+1)),\n",
    "                   'LogReg__penalty': ['l1', 'l2'],\n",
    "                   'LogReg__C': [0.01, 0.1, 1.0, 10.0, 100.0,1000.0]\n",
    "                  }\n",
    "PCA_LR_cv_white=train_model_GridSearch(X_train_white, y_train_white, PCA_LR_steps, PCA_LR_parameters)\n",
    "PCA_LR_cv_white.best_params_"
   ]
  },
  {
   "cell_type": "markdown",
   "metadata": {},
   "source": [
    "#### PCA Logistic Regression ROC Curve"
   ]
  },
  {
   "cell_type": "code",
   "execution_count": 26,
   "metadata": {},
   "outputs": [
    {
     "data": {
      "image/png": "[encoded data removed]",
      "text/plain": [
       "<Figure size 432x288 with 1 Axes>"
      ]
     },
     "metadata": {
      "needs_background": "light"
     },
     "output_type": "display_data"
    }
   ],
   "source": [
    "plot_roc(PCA_LR_cv_white, X_test_white, y_test_white)"
   ]
  },
  {
   "cell_type": "code",
   "execution_count": 27,
   "metadata": {},
   "outputs": [],
   "source": [
    "PCA_LR_results_white=record_results('PCA Logistic Regression', PCA_LR_cv_white, X_test_white, y_test_white)\n",
    "white_scores.append(PCA_LR_results_white)"
   ]
  },
  {
   "cell_type": "markdown",
   "metadata": {},
   "source": [
    "### Random Forest"
   ]
  },
  {
   "cell_type": "code",
   "execution_count": 28,
   "metadata": {},
   "outputs": [
    {
     "data": {
      "text/plain": [
       "{'randomForest__criterion': 'entropy',\n",
       " 'randomForest__max_depth': 79,\n",
       " 'randomForest__max_features': 1,\n",
       " 'randomForest__min_samples_leaf': 3,\n",
       " 'randomForest__min_samples_split': 4,\n",
       " 'randomForest__n_estimators': 298}"
      ]
     },
     "execution_count": 28,
     "metadata": {},
     "output_type": "execute_result"
    }
   ],
   "source": [
    "RF_steps=[('randomForest', RandomForestClassifier())]\n",
    "RF_parameters={'randomForest__n_estimators': randint(20, 300), \n",
    "             'randomForest__max_depth': randint(10,100),\n",
    "             'randomForest__min_samples_split': randint(2,10),\n",
    "             'randomForest__min_samples_leaf' : randint(1,10),\n",
    "             'randomForest__max_features' : np.arange(num_features)+1,\n",
    "             'randomForest__criterion': ['gini', 'entropy']\n",
    "              }\n",
    "RF_cv_white=train_model_RandomizedSearch(X_train_white, y_train_white, RF_steps, RF_parameters)\n",
    "RF_cv_white.best_params_"
   ]
  },
  {
   "cell_type": "markdown",
   "metadata": {},
   "source": [
    "#### Random Forest ROC Curve"
   ]
  },
  {
   "cell_type": "code",
   "execution_count": 29,
   "metadata": {},
   "outputs": [
    {
     "data": {
      "image/png": "[encoded data removed]",
      "text/plain": [
       "<Figure size 432x288 with 1 Axes>"
      ]
     },
     "metadata": {
      "needs_background": "light"
     },
     "output_type": "display_data"
    }
   ],
   "source": [
    "plot_roc(RF_cv_white, X_test_white, y_test_white)"
   ]
  },
  {
   "cell_type": "code",
   "execution_count": 30,
   "metadata": {},
   "outputs": [],
   "source": [
    "RF_results_white=record_results('Random Forest', RF_cv_white, X_test_white, y_test_white)\n",
    "white_scores.append(RF_results_white)"
   ]
  },
  {
   "cell_type": "markdown",
   "metadata": {},
   "source": [
    "### Gradient Boosted Tree"
   ]
  },
  {
   "cell_type": "code",
   "execution_count": 31,
   "metadata": {},
   "outputs": [
    {
     "data": {
      "text/plain": [
       "{'GBT__learning_rate': 0.20234590539015518,\n",
       " 'GBT__max_depth': 8,\n",
       " 'GBT__max_features': 9,\n",
       " 'GBT__min_samples_leaf': 9,\n",
       " 'GBT__min_samples_split': 9,\n",
       " 'GBT__n_estimators': 28,\n",
       " 'GBT__subsample': 0.9839275636184652}"
      ]
     },
     "execution_count": 31,
     "metadata": {},
     "output_type": "execute_result"
    }
   ],
   "source": [
    "GBT_steps=[('GBT', GradientBoostingClassifier())]\n",
    "GBT_parameters= {'GBT__learning_rate': uniform(0,3),\n",
    "                 'GBT__n_estimators': randint(1,1000),\n",
    "                 'GBT__subsample' : uniform(0,1),\n",
    "                 'GBT__min_samples_split': randint(2,10),\n",
    "                 'GBT__max_depth' : randint(1,10),\n",
    "                 'GBT__max_features' : np.arange(num_features)+1,\n",
    "                 'GBT__min_samples_leaf': randint(1,10)\n",
    "                }\n",
    "GBT_cv_white=train_model_RandomizedSearch(X_train_white, y_train_white, GBT_steps, GBT_parameters)\n",
    "GBT_cv_white.best_params_"
   ]
  },
  {
   "cell_type": "markdown",
   "metadata": {},
   "source": [
    "#### Gradient Boosted Tree ROC Curve"
   ]
  },
  {
   "cell_type": "code",
   "execution_count": 32,
   "metadata": {},
   "outputs": [
    {
     "data": {
      "image/png": "[encoded data removed]",
      "text/plain": [
       "<Figure size 432x288 with 1 Axes>"
      ]
     },
     "metadata": {
      "needs_background": "light"
     },
     "output_type": "display_data"
    }
   ],
   "source": [
    "plot_roc(GBT_cv_white, X_test_white, y_test_white)"
   ]
  },
  {
   "cell_type": "code",
   "execution_count": 33,
   "metadata": {},
   "outputs": [],
   "source": [
    "GBT_results_white=record_results('Gradient Boosted Tree', GBT_cv_white, X_test_white, y_test_white)\n",
    "white_scores.append(GBT_results_white)"
   ]
  },
  {
   "cell_type": "code",
   "execution_count": 34,
   "metadata": {},
   "outputs": [
    {
     "data": {
      "text/html": [
       "<div>\n",
       "<style scoped>\n",
       "    .dataframe tbody tr th:only-of-type {\n",
       "        vertical-align: middle;\n",
       "    }\n",
       "\n",
       "    .dataframe tbody tr th {\n",
       "        vertical-align: top;\n",
       "    }\n",
       "\n",
       "    .dataframe thead th {\n",
       "        text-align: right;\n",
       "    }\n",
       "</style>\n",
       "<table border=\"1\" class=\"dataframe\">\n",
       "  <thead>\n",
       "    <tr style=\"text-align: right;\">\n",
       "      <th></th>\n",
       "      <th>Model Name</th>\n",
       "      <th>f1 score</th>\n",
       "      <th>test_acc</th>\n",
       "      <th>best_score_</th>\n",
       "      <th>roc</th>\n",
       "    </tr>\n",
       "    <tr>\n",
       "      <th>White Wine</th>\n",
       "      <th></th>\n",
       "      <th></th>\n",
       "      <th></th>\n",
       "      <th></th>\n",
       "      <th></th>\n",
       "    </tr>\n",
       "  </thead>\n",
       "  <tbody>\n",
       "    <tr>\n",
       "      <th>0</th>\n",
       "      <td>Logistic Regression</td>\n",
       "      <td>0.424000</td>\n",
       "      <td>0.818411</td>\n",
       "      <td>0.811741</td>\n",
       "      <td>0.831736</td>\n",
       "    </tr>\n",
       "    <tr>\n",
       "      <th>1</th>\n",
       "      <td>PCA Logistic Regression</td>\n",
       "      <td>0.424000</td>\n",
       "      <td>0.818411</td>\n",
       "      <td>0.811666</td>\n",
       "      <td>0.831801</td>\n",
       "    </tr>\n",
       "    <tr>\n",
       "      <th>2</th>\n",
       "      <td>Random Forest</td>\n",
       "      <td>0.416327</td>\n",
       "      <td>0.819672</td>\n",
       "      <td>0.842645</td>\n",
       "      <td>0.863015</td>\n",
       "    </tr>\n",
       "    <tr>\n",
       "      <th>3</th>\n",
       "      <td>Gradient Boosted Tree</td>\n",
       "      <td>0.501767</td>\n",
       "      <td>0.822194</td>\n",
       "      <td>0.830297</td>\n",
       "      <td>0.842588</td>\n",
       "    </tr>\n",
       "  </tbody>\n",
       "</table>\n",
       "</div>"
      ],
      "text/plain": [
       "                         Model Name  f1 score  test_acc  best_score_       roc\n",
       "White Wine                                                                    \n",
       "0               Logistic Regression  0.424000  0.818411     0.811741  0.831736\n",
       "1           PCA Logistic Regression  0.424000  0.818411     0.811666  0.831801\n",
       "2                     Random Forest  0.416327  0.819672     0.842645  0.863015\n",
       "3             Gradient Boosted Tree  0.501767  0.822194     0.830297  0.842588"
      ]
     },
     "execution_count": 34,
     "metadata": {},
     "output_type": "execute_result"
    }
   ],
   "source": [
    "white_results= pd.DataFrame(white_scores, columns=['Model Name', 'f1 score', 'test_acc', 'best_score_', 'roc'])\n",
    "white_results.index.name='White Wine'\n",
    "white_results"
   ]
  },
  {
   "cell_type": "markdown",
   "metadata": {},
   "source": [
    "## Export Model and Model Metrics"
   ]
  },
  {
   "cell_type": "code",
   "execution_count": 35,
   "metadata": {},
   "outputs": [],
   "source": [
    "export_path_red='./Model Metrics/Red Wine/'\n",
    "export_path_white='./Model Metrics/White Wine/'"
   ]
  },
  {
   "cell_type": "code",
   "execution_count": 36,
   "metadata": {},
   "outputs": [],
   "source": [
    "export_file(export_path_red, 'logistic_regression_red.pkl', LR_cv_red)\n",
    "export_file(export_path_red, 'PCA_logistic_regression_red.pkl', PCA_LR_cv_red)\n",
    "export_file(export_path_red, 'random_forest_red.pkl', RF_cv_red)\n",
    "export_file(export_path_red, 'gradient_boosted_tree_red.pkl', GBT_cv_red)\n",
    "red_results.to_csv(export_path_red + 'Red_Wine_Performance_Metrics.csv',index=False)"
   ]
  },
  {
   "cell_type": "code",
   "execution_count": 37,
   "metadata": {},
   "outputs": [],
   "source": [
    "export_file(export_path_white, 'logistic_regression_white.pkl', LR_cv_white)\n",
    "export_file(export_path_white, 'PCA_logistic_regression_white.pkl', PCA_LR_cv_white)\n",
    "export_file(export_path_white, 'random_forest_white.pkl', RF_cv_white)\n",
    "export_file(export_path_white, 'gradient_boosted_tree_white.pkl', GBT_cv_white)\n",
    "white_results.to_csv(export_path_white + 'White_Wine_Performance_Metrics.csv',index=False)"
   ]
  },
  {
   "cell_type": "code",
   "execution_count": 38,
   "metadata": {},
   "outputs": [
    {
     "data": {
      "text/html": [
       "<div>\n",
       "<style scoped>\n",
       "    .dataframe tbody tr th:only-of-type {\n",
       "        vertical-align: middle;\n",
       "    }\n",
       "\n",
       "    .dataframe tbody tr th {\n",
       "        vertical-align: top;\n",
       "    }\n",
       "\n",
       "    .dataframe thead th {\n",
       "        text-align: right;\n",
       "    }\n",
       "</style>\n",
       "<table border=\"1\" class=\"dataframe\">\n",
       "  <thead>\n",
       "    <tr style=\"text-align: right;\">\n",
       "      <th></th>\n",
       "      <th>Model Name</th>\n",
       "      <th>f1 score</th>\n",
       "      <th>test_acc</th>\n",
       "      <th>best_score_</th>\n",
       "      <th>roc</th>\n",
       "    </tr>\n",
       "    <tr>\n",
       "      <th>Red Wine</th>\n",
       "      <th></th>\n",
       "      <th></th>\n",
       "      <th></th>\n",
       "      <th></th>\n",
       "      <th></th>\n",
       "    </tr>\n",
       "  </thead>\n",
       "  <tbody>\n",
       "    <tr>\n",
       "      <th>0</th>\n",
       "      <td>Logistic Regression</td>\n",
       "      <td>0.415094</td>\n",
       "      <td>0.886029</td>\n",
       "      <td>0.871520</td>\n",
       "      <td>0.867377</td>\n",
       "    </tr>\n",
       "    <tr>\n",
       "      <th>1</th>\n",
       "      <td>PCA Logistic Regression</td>\n",
       "      <td>0.415094</td>\n",
       "      <td>0.886029</td>\n",
       "      <td>0.872081</td>\n",
       "      <td>0.861544</td>\n",
       "    </tr>\n",
       "    <tr>\n",
       "      <th>2</th>\n",
       "      <td>Random Forest</td>\n",
       "      <td>0.452830</td>\n",
       "      <td>0.893382</td>\n",
       "      <td>0.878996</td>\n",
       "      <td>0.874223</td>\n",
       "    </tr>\n",
       "    <tr>\n",
       "      <th>3</th>\n",
       "      <td>Gradient Boosted Tree</td>\n",
       "      <td>0.419355</td>\n",
       "      <td>0.867647</td>\n",
       "      <td>0.862626</td>\n",
       "      <td>0.839102</td>\n",
       "    </tr>\n",
       "  </tbody>\n",
       "</table>\n",
       "</div>"
      ],
      "text/plain": [
       "                       Model Name  f1 score  test_acc  best_score_       roc\n",
       "Red Wine                                                                    \n",
       "0             Logistic Regression  0.415094  0.886029     0.871520  0.867377\n",
       "1         PCA Logistic Regression  0.415094  0.886029     0.872081  0.861544\n",
       "2                   Random Forest  0.452830  0.893382     0.878996  0.874223\n",
       "3           Gradient Boosted Tree  0.419355  0.867647     0.862626  0.839102"
      ]
     },
     "execution_count": 38,
     "metadata": {},
     "output_type": "execute_result"
    }
   ],
   "source": [
    "red_results"
   ]
  },
  {
   "cell_type": "code",
   "execution_count": 39,
   "metadata": {},
   "outputs": [
    {
     "data": {
      "text/html": [
       "<div>\n",
       "<style scoped>\n",
       "    .dataframe tbody tr th:only-of-type {\n",
       "        vertical-align: middle;\n",
       "    }\n",
       "\n",
       "    .dataframe tbody tr th {\n",
       "        vertical-align: top;\n",
       "    }\n",
       "\n",
       "    .dataframe thead th {\n",
       "        text-align: right;\n",
       "    }\n",
       "</style>\n",
       "<table border=\"1\" class=\"dataframe\">\n",
       "  <thead>\n",
       "    <tr style=\"text-align: right;\">\n",
       "      <th></th>\n",
       "      <th>Model Name</th>\n",
       "      <th>f1 score</th>\n",
       "      <th>test_acc</th>\n",
       "      <th>best_score_</th>\n",
       "      <th>roc</th>\n",
       "    </tr>\n",
       "    <tr>\n",
       "      <th>White Wine</th>\n",
       "      <th></th>\n",
       "      <th></th>\n",
       "      <th></th>\n",
       "      <th></th>\n",
       "      <th></th>\n",
       "    </tr>\n",
       "  </thead>\n",
       "  <tbody>\n",
       "    <tr>\n",
       "      <th>0</th>\n",
       "      <td>Logistic Regression</td>\n",
       "      <td>0.424000</td>\n",
       "      <td>0.818411</td>\n",
       "      <td>0.811741</td>\n",
       "      <td>0.831736</td>\n",
       "    </tr>\n",
       "    <tr>\n",
       "      <th>1</th>\n",
       "      <td>PCA Logistic Regression</td>\n",
       "      <td>0.424000</td>\n",
       "      <td>0.818411</td>\n",
       "      <td>0.811666</td>\n",
       "      <td>0.831801</td>\n",
       "    </tr>\n",
       "    <tr>\n",
       "      <th>2</th>\n",
       "      <td>Random Forest</td>\n",
       "      <td>0.416327</td>\n",
       "      <td>0.819672</td>\n",
       "      <td>0.842645</td>\n",
       "      <td>0.863015</td>\n",
       "    </tr>\n",
       "    <tr>\n",
       "      <th>3</th>\n",
       "      <td>Gradient Boosted Tree</td>\n",
       "      <td>0.501767</td>\n",
       "      <td>0.822194</td>\n",
       "      <td>0.830297</td>\n",
       "      <td>0.842588</td>\n",
       "    </tr>\n",
       "  </tbody>\n",
       "</table>\n",
       "</div>"
      ],
      "text/plain": [
       "                         Model Name  f1 score  test_acc  best_score_       roc\n",
       "White Wine                                                                    \n",
       "0               Logistic Regression  0.424000  0.818411     0.811741  0.831736\n",
       "1           PCA Logistic Regression  0.424000  0.818411     0.811666  0.831801\n",
       "2                     Random Forest  0.416327  0.819672     0.842645  0.863015\n",
       "3             Gradient Boosted Tree  0.501767  0.822194     0.830297  0.842588"
      ]
     },
     "execution_count": 39,
     "metadata": {},
     "output_type": "execute_result"
    }
   ],
   "source": [
    "white_results"
   ]
  },
  {
   "cell_type": "markdown",
   "metadata": {},
   "source": [
    "### Conclusion"
   ]
  },
  {
   "cell_type": "markdown",
   "metadata": {},
   "source": [
    "Out of our 4 models: logistic regression, logistic regression with PCA, random forest, and gradient boosted trees, it seems like the random forest model works best with the red wine data and gradient boosted trees work the best with the white wine data."
   ]
  }
 ],
 "metadata": {
  "kernelspec": {
   "display_name": "Python 3",
   "language": "python",
   "name": "python3"
  },
  "language_info": {
   "codemirror_mode": {
    "name": "ipython",
    "version": 3
   },
   "file_extension": ".py",
   "mimetype": "text/x-python",
   "name": "python",
   "nbconvert_exporter": "python",
   "pygments_lexer": "ipython3",
   "version": "3.8.3"
  }
 },
 "nbformat": 4,
 "nbformat_minor": 4
}
