{
 "cells": [
  {
   "cell_type": "markdown",
   "metadata": {},
   "source": [
    "## Conclusion"
   ]
  },
  {
   "cell_type": "markdown",
   "metadata": {},
   "source": [
    "In summary, for our binary classification task of differentiating low and high quality wines, we have trained 4 machine learning algorithms on each of the red and white wine datasets. For each model, we selected a probability threshold depending on one of two business cases: small family owned wine shop, or a large corperate winery. The results of our analysis would be important to owners of small businesses or R&D departments at corperate wineries looking to maximize sales. These models can be useful by ensuring that only high quality wines find their way to loyal high paying customers or by reducing number of recalled wines without affecting sales. It also provides a way to quantify wine quality using physicochemical properties of the wine instead of using human tasters. "
   ]
  },
  {
   "cell_type": "markdown",
   "metadata": {},
   "source": [
    "## Ideas for Future Research"
   ]
  },
  {
   "cell_type": "markdown",
   "metadata": {},
   "source": [
    "Apply other machine learning algorithms such as:\n",
    "* Neural Net\n",
    "* Support Vector Machine\n",
    "---"
   ]
  },
  {
   "cell_type": "markdown",
   "metadata": {},
   "source": [
    "Acquired more detailed data with more features:\n",
    "* Wine Color\n",
    "* Wine Price\n",
    "* Wine Name\n",
    "* Carbonic Acid Levels (carbonation)\n",
    "* Cask or Bottle Fermented\n",
    "---"
   ]
  },
  {
   "cell_type": "markdown",
   "metadata": {},
   "source": [
    "Adjust problem statement: \n",
    "\n",
    "* With wine prices, it would be possible to create a regression model for wine price instead of trying to classify wine quality.\n",
    "---"
   ]
  },
  {
   "cell_type": "markdown",
   "metadata": {},
   "source": [
    "More robust labeling techniques of sensory data:\n",
    "\n",
    "* Wine quality would be judged from the median of more than 3 wine tasters possibly from different regions or from markets with different palettes. \n",
    "---"
   ]
  },
  {
   "cell_type": "markdown",
   "metadata": {},
   "source": [
    "Focus on improving red wines:\n",
    "\n",
    "* White wines had proportionally 30% more high quality wines than high quality red wines. Efforts could be directed to improving red wine performance. "
   ]
  }
 ],
 "metadata": {
  "kernelspec": {
   "display_name": "Python 3 (ipykernel)",
   "language": "python",
   "name": "python3"
  },
  "language_info": {
   "codemirror_mode": {
    "name": "ipython",
    "version": 3
   },
   "file_extension": ".py",
   "mimetype": "text/x-python",
   "name": "python",
   "nbconvert_exporter": "python",
   "pygments_lexer": "ipython3",
   "version": "3.8.3"
  }
 },
 "nbformat": 4,
 "nbformat_minor": 4
}
