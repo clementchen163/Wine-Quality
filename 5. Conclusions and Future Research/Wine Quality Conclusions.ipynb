{
 "cells": [
  {
   "cell_type": "markdown",
   "metadata": {},
   "source": [
    "## Conclusions"
   ]
  },
  {
   "cell_type": "markdown",
   "metadata": {},
   "source": [
    "* The dataset is made of many duplicates which have been classified as true duplicates and removed prior to modeling\n",
    "* The red wines tend to have lower quality than the white wines\n",
    "* The five most important features in determining red wine quality was \n",
    "citric acid, density, alcohol, sulphates, and volatile acidity\n",
    "* The five most important features in determing white wine quality was\n",
    "alcohol, density, chlorides, total sulfur dioxide, and residual sugars"
   ]
  },
  {
   "cell_type": "markdown",
   "metadata": {},
   "source": [
    "![red wine GBT feature importance](Images/Red_Wine_GBT.png)"
   ]
  },
  {
   "cell_type": "markdown",
   "metadata": {},
   "source": [
    "![white wine RF feature importance](Images/White_Wine_RF.png)"
   ]
  },
  {
   "cell_type": "markdown",
   "metadata": {},
   "source": [
    "## Ideas for Future Research"
   ]
  },
  {
   "cell_type": "markdown",
   "metadata": {},
   "source": [
    "Apply other machine learning algorithms such as:\n",
    "* Neural Net\n",
    "* Support Vector Machine"
   ]
  },
  {
   "cell_type": "markdown",
   "metadata": {},
   "source": [
    "Acquired more detailed data with more features\n",
    "* Wine Color\n",
    "* Wine Price\n",
    "* Wine Name\n",
    "* Wine Price"
   ]
  },
  {
   "cell_type": "markdown",
   "metadata": {},
   "source": [
    "Adjust problem statement: \n",
    "\n",
    "With wine prices, it would be possible to create a regression model for wine price instead of trying to classify wine quality."
   ]
  },
  {
   "cell_type": "markdown",
   "metadata": {},
   "source": [
    "More robust labeling techniques of sensory data:\n",
    "\n",
    "Wine quality would be judged from the median of more than 3 wine tasters possibly from different regions or from markets with different palettes. \n",
    "\n"
   ]
  },
  {
   "cell_type": "markdown",
   "metadata": {},
   "source": [
    "Focus on improving red wines:\n",
    "White wines had proportionally 30% more high quality wines than high quality red wines. Efforts could be directed to improving red wine performance. "
   ]
  }
 ],
 "metadata": {
  "kernelspec": {
   "display_name": "Python 3",
   "language": "python",
   "name": "python3"
  },
  "language_info": {
   "codemirror_mode": {
    "name": "ipython",
    "version": 3
   },
   "file_extension": ".py",
   "mimetype": "text/x-python",
   "name": "python",
   "nbconvert_exporter": "python",
   "pygments_lexer": "ipython3",
   "version": "3.8.3"
  }
 },
 "nbformat": 4,
 "nbformat_minor": 4
}
