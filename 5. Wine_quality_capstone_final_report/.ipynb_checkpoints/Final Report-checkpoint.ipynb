{
 "cells": [
  {
   "cell_type": "markdown",
   "metadata": {},
   "source": [
    "![title](Images/title_slide.png)"
   ]
  },
  {
   "cell_type": "markdown",
   "metadata": {},
   "source": [
    "## Wine Quality Classification"
   ]
  },
  {
   "cell_type": "markdown",
   "metadata": {},
   "source": [
    "Wine consumption is prevalent across multiple cultures. Here we examine the red and white wines from the vinho verde region of Portugal. To support the growth of the wine market, a way to qualify wine quality is needed to ensure consistency, and to potentially discover niche markets."
   ]
  },
  {
   "cell_type": "markdown",
   "metadata": {},
   "source": [
    "## 1. Data\n",
    "---"
   ]
  },
  {
   "cell_type": "markdown",
   "metadata": {},
   "source": [
    "The dataset is from the Viticulture Commission of the Vinho Verde region (CVRVV) and contains two data sets, one for red wine with 1599 samples and one for white wine with 4898 samples. Each sample is for one wine and includes objective tests such as density or alchohol content as well as a quality rating from 0(bad) to 10(fantastic) obtained from the median score of at least 3 wine experts. The dataset and asscociated datamining paper are linked below. "
   ]
  },
  {
   "cell_type": "markdown",
   "metadata": {},
   "source": [
    "* [Wine Quality Dataset](https://archive.ics.uci.edu/ml/datasets/wine+quality)\n",
    "\n",
    "* [Original Datamining Paper](https://repositorium.sdum.uminho.pt/bitstream/1822/10029/1/wine5.pdf)\n",
    "\n",
    "* [Project Data](https://github.com/clementchen163/Wine-Quality/tree/main/0.%20Project%20Data)"
   ]
  },
  {
   "cell_type": "markdown",
   "metadata": {},
   "source": [
    "![Wine features](Images/wine_feature_units_table_1.png)"
   ]
  },
  {
   "cell_type": "markdown",
   "metadata": {},
   "source": [
    "## 2. Data Wrangling\n",
    "---"
   ]
  },
  {
   "cell_type": "markdown",
   "metadata": {},
   "source": [
    "[Data Wrangling Report](https://github.com/clementchen163/Wine-Quality/tree/main/1.%20Data%20Wrangling)"
   ]
  },
  {
   "cell_type": "markdown",
   "metadata": {},
   "source": [
    "The dataset was already very clean, there were no null values or datatype inconsistencies. What was discovered was many duplicated values. \n",
    "\n",
    "* **Problem:**  With 1177 rows of duplicated data, deciding what to do with them is not trivial. Of the features we have, none are categorical and with the exception of pH, all are continuous. This makes me believe that if the data collection process is robust, it is very unlikely that two unique wine samples coincidently have the same feature values. Could it be that these duplicates are the same wine samples but have had multiple different people evaluate its quality? According to the data source: \"the output is based on sensory data (median of at least 3 evaluations made by wine experts)\". This lets us conclude that the duplicates are true duplicates and should be removed prior to modeling."
   ]
  },
  {
   "cell_type": "markdown",
   "metadata": {},
   "source": [
    "## 3. EDA\n",
    "---"
   ]
  },
  {
   "cell_type": "markdown",
   "metadata": {},
   "source": [
    "[EDA Report](https://github.com/clementchen163/Wine-Quality/tree/main/2.%20EDA)"
   ]
  },
  {
   "cell_type": "markdown",
   "metadata": {},
   "source": [
    "First we look at how our response variable is distributed in the data. We can see that between red and white wines, there seems to be a greater representation of white wines in the higher 6,7,8,9 quality categories while 80% of red wines lie in the 5,6 quality range. This signifys that the quality of red and white wines are not distributed the same so training two seperate models would be beneficial."
   ]
  },
  {
   "cell_type": "markdown",
   "metadata": {},
   "source": [
    "![quality distibution by wine type](Images/quality_distribution.png)"
   ]
  },
  {
   "cell_type": "markdown",
   "metadata": {},
   "source": [
    "Out of all the features, quality seems to depend on alcohol the most. Looking at the box plot below, we can see that both red and white wine quality tend to increase as alcohol content increases."
   ]
  },
  {
   "cell_type": "markdown",
   "metadata": {},
   "source": [
    "![quality vs alcohol](Images/quality_vs_alcohol.png)"
   ]
  },
  {
   "cell_type": "markdown",
   "metadata": {},
   "source": [
    "## 4. Preprocessing\n",
    "---"
   ]
  },
  {
   "cell_type": "markdown",
   "metadata": {},
   "source": []
  }
 ],
 "metadata": {
  "kernelspec": {
   "display_name": "Python 3",
   "language": "python",
   "name": "python3"
  },
  "language_info": {
   "codemirror_mode": {
    "name": "ipython",
    "version": 3
   },
   "file_extension": ".py",
   "mimetype": "text/x-python",
   "name": "python",
   "nbconvert_exporter": "python",
   "pygments_lexer": "ipython3",
   "version": "3.8.3"
  }
 },
 "nbformat": 4,
 "nbformat_minor": 4
}
