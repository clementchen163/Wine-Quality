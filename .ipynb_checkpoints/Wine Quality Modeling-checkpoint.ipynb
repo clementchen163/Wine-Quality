{
 "cells": [
  {
   "cell_type": "code",
   "execution_count": 29,
   "metadata": {},
   "outputs": [],
   "source": [
    "import pandas as pd\n",
    "import matplotlib.pyplot as plt\n",
    "import numpy as np\n",
    "from sklearn.preprocessing import RobustScaler\n",
    "from sklearn.model_selection import train_test_split, GridSearchCV, KFold, RandomizedSearchCV\n",
    "from sklearn.pipeline import Pipeline\n",
    "from sklearn.metrics import f1_score, roc_curve, roc_auc_score, accuracy_score\n",
    "from sklearn.linear_model import LogisticRegression\n",
    "from sklearn.decomposition import PCA\n",
    "from sklearn.ensemble import RandomForestClassifier, GradientBoostingClassifier\n",
    "from scipy.stats import randint, uniform"
   ]
  },
  {
   "cell_type": "markdown",
   "metadata": {},
   "source": [
    "## Load data"
   ]
  },
  {
   "cell_type": "code",
   "execution_count": 30,
   "metadata": {
    "scrolled": true
   },
   "outputs": [
    {
     "data": {
      "text/html": [
       "<div>\n",
       "<style scoped>\n",
       "    .dataframe tbody tr th:only-of-type {\n",
       "        vertical-align: middle;\n",
       "    }\n",
       "\n",
       "    .dataframe tbody tr th {\n",
       "        vertical-align: top;\n",
       "    }\n",
       "\n",
       "    .dataframe thead th {\n",
       "        text-align: right;\n",
       "    }\n",
       "</style>\n",
       "<table border=\"1\" class=\"dataframe\">\n",
       "  <thead>\n",
       "    <tr style=\"text-align: right;\">\n",
       "      <th></th>\n",
       "      <th>fixed acidity</th>\n",
       "      <th>volatile acidity</th>\n",
       "      <th>citric acid</th>\n",
       "      <th>residual sugar</th>\n",
       "      <th>chlorides</th>\n",
       "      <th>free sulfur dioxide</th>\n",
       "      <th>total sulfur dioxide</th>\n",
       "      <th>density</th>\n",
       "      <th>pH</th>\n",
       "      <th>sulphates</th>\n",
       "      <th>alcohol</th>\n",
       "      <th>quality</th>\n",
       "    </tr>\n",
       "  </thead>\n",
       "  <tbody>\n",
       "    <tr>\n",
       "      <th>0</th>\n",
       "      <td>7.0</td>\n",
       "      <td>0.27</td>\n",
       "      <td>0.36</td>\n",
       "      <td>20.7</td>\n",
       "      <td>0.045</td>\n",
       "      <td>45.0</td>\n",
       "      <td>170.0</td>\n",
       "      <td>1.0010</td>\n",
       "      <td>3.00</td>\n",
       "      <td>0.45</td>\n",
       "      <td>8.8</td>\n",
       "      <td>6</td>\n",
       "    </tr>\n",
       "    <tr>\n",
       "      <th>1</th>\n",
       "      <td>6.3</td>\n",
       "      <td>0.30</td>\n",
       "      <td>0.34</td>\n",
       "      <td>1.6</td>\n",
       "      <td>0.049</td>\n",
       "      <td>14.0</td>\n",
       "      <td>132.0</td>\n",
       "      <td>0.9940</td>\n",
       "      <td>3.30</td>\n",
       "      <td>0.49</td>\n",
       "      <td>9.5</td>\n",
       "      <td>6</td>\n",
       "    </tr>\n",
       "    <tr>\n",
       "      <th>2</th>\n",
       "      <td>8.1</td>\n",
       "      <td>0.28</td>\n",
       "      <td>0.40</td>\n",
       "      <td>6.9</td>\n",
       "      <td>0.050</td>\n",
       "      <td>30.0</td>\n",
       "      <td>97.0</td>\n",
       "      <td>0.9951</td>\n",
       "      <td>3.26</td>\n",
       "      <td>0.44</td>\n",
       "      <td>10.1</td>\n",
       "      <td>6</td>\n",
       "    </tr>\n",
       "    <tr>\n",
       "      <th>3</th>\n",
       "      <td>7.2</td>\n",
       "      <td>0.23</td>\n",
       "      <td>0.32</td>\n",
       "      <td>8.5</td>\n",
       "      <td>0.058</td>\n",
       "      <td>47.0</td>\n",
       "      <td>186.0</td>\n",
       "      <td>0.9956</td>\n",
       "      <td>3.19</td>\n",
       "      <td>0.40</td>\n",
       "      <td>9.9</td>\n",
       "      <td>6</td>\n",
       "    </tr>\n",
       "    <tr>\n",
       "      <th>4</th>\n",
       "      <td>6.2</td>\n",
       "      <td>0.32</td>\n",
       "      <td>0.16</td>\n",
       "      <td>7.0</td>\n",
       "      <td>0.045</td>\n",
       "      <td>30.0</td>\n",
       "      <td>136.0</td>\n",
       "      <td>0.9949</td>\n",
       "      <td>3.18</td>\n",
       "      <td>0.47</td>\n",
       "      <td>9.6</td>\n",
       "      <td>6</td>\n",
       "    </tr>\n",
       "  </tbody>\n",
       "</table>\n",
       "</div>"
      ],
      "text/plain": [
       "   fixed acidity  volatile acidity  citric acid  residual sugar  chlorides  \\\n",
       "0            7.0              0.27         0.36            20.7      0.045   \n",
       "1            6.3              0.30         0.34             1.6      0.049   \n",
       "2            8.1              0.28         0.40             6.9      0.050   \n",
       "3            7.2              0.23         0.32             8.5      0.058   \n",
       "4            6.2              0.32         0.16             7.0      0.045   \n",
       "\n",
       "   free sulfur dioxide  total sulfur dioxide  density    pH  sulphates  \\\n",
       "0                 45.0                 170.0   1.0010  3.00       0.45   \n",
       "1                 14.0                 132.0   0.9940  3.30       0.49   \n",
       "2                 30.0                  97.0   0.9951  3.26       0.44   \n",
       "3                 47.0                 186.0   0.9956  3.19       0.40   \n",
       "4                 30.0                 136.0   0.9949  3.18       0.47   \n",
       "\n",
       "   alcohol  quality  \n",
       "0      8.8        6  \n",
       "1      9.5        6  \n",
       "2     10.1        6  \n",
       "3      9.9        6  \n",
       "4      9.6        6  "
      ]
     },
     "execution_count": 30,
     "metadata": {},
     "output_type": "execute_result"
    }
   ],
   "source": [
    "white_wine_path='./Data/no-duplicates-winequality-white.csv'\n",
    "w_df=pd.read_csv(white_wine_path, sep=',')\n",
    "w_df.head()"
   ]
  },
  {
   "cell_type": "markdown",
   "metadata": {},
   "source": [
    "### Logistic Regression"
   ]
  },
  {
   "cell_type": "markdown",
   "metadata": {},
   "source": [
    "Our response variable comes from a 'quality' distribution that ranges from 0-10. In order to apply a binary Logistic regression model to this dataset, we have to bin our response variable into 'low' and 'high' quality. "
   ]
  },
  {
   "cell_type": "code",
   "execution_count": 31,
   "metadata": {},
   "outputs": [
    {
     "data": {
      "text/plain": [
       "3      20\n",
       "4     153\n",
       "5    1175\n",
       "6    1788\n",
       "7     689\n",
       "8     131\n",
       "9       5\n",
       "Name: quality, dtype: int64"
      ]
     },
     "execution_count": 31,
     "metadata": {},
     "output_type": "execute_result"
    }
   ],
   "source": [
    "quality_freq=w_df['quality'].value_counts().sort_index()\n",
    "quality_freq"
   ]
  },
  {
   "cell_type": "code",
   "execution_count": 32,
   "metadata": {},
   "outputs": [],
   "source": [
    "ranges=[0,6,10]\n",
    "group_names=['low', 'high']\n",
    "w_df['quality_bin']=pd.cut(w_df['quality'], bins=ranges, labels=group_names)"
   ]
  },
  {
   "cell_type": "code",
   "execution_count": 33,
   "metadata": {},
   "outputs": [
    {
     "data": {
      "text/plain": [
       "low     3136\n",
       "high     825\n",
       "Name: quality_bin, dtype: int64"
      ]
     },
     "execution_count": 33,
     "metadata": {},
     "output_type": "execute_result"
    }
   ],
   "source": [
    "w_df['quality_bin'].value_counts().sort_index()"
   ]
  },
  {
   "cell_type": "markdown",
   "metadata": {},
   "source": [
    "We drop the alcohol column as well because it has high correlation with the density feature."
   ]
  },
  {
   "cell_type": "code",
   "execution_count": 34,
   "metadata": {},
   "outputs": [],
   "source": [
    "y=w_df['quality_bin']\n",
    "X=w_df.drop(['quality', 'quality_bin','alcohol'], axis=1)"
   ]
  },
  {
   "cell_type": "code",
   "execution_count": 35,
   "metadata": {},
   "outputs": [],
   "source": [
    "f1_=[]\n",
    "test_acc=[]\n",
    "best_score=[]\n",
    "model=[]\n",
    "roc=[]"
   ]
  },
  {
   "cell_type": "code",
   "execution_count": 36,
   "metadata": {},
   "outputs": [],
   "source": [
    "def record_results(model_name):\n",
    "    y_pred=cv.predict(X_test)\n",
    "    f1_.append(f1_score(y_test,y_pred, average='macro'))\n",
    "    test_acc.append(accuracy_score(y_test,y_pred))\n",
    "    best_score.append(cv.best_score_)\n",
    "    roc.append(auc)\n",
    "    model.append(model_name)\n",
    "    return None"
   ]
  },
  {
   "cell_type": "markdown",
   "metadata": {},
   "source": [
    "We set up a pipeline that includes scaling the data using RobustScaler and a grid search over the the parameters penalty (lasso vs ridge regression regularization) and C (regularization strength)"
   ]
  },
  {
   "cell_type": "code",
   "execution_count": 9,
   "metadata": {},
   "outputs": [
    {
     "data": {
      "text/plain": [
       "GridSearchCV(cv=KFold(n_splits=5, random_state=123, shuffle=True),\n",
       "             estimator=Pipeline(steps=[('scaler', RobustScaler()),\n",
       "                                       ('LogReg',\n",
       "                                        LogisticRegression(solver='liblinear'))]),\n",
       "             param_grid={'LogReg__C': [0.01, 0.1, 1.0, 10.0, 100.0, 1000.0],\n",
       "                         'LogReg__penalty': ['l1', 'l2']},\n",
       "             scoring='f1_macro')"
      ]
     },
     "execution_count": 9,
     "metadata": {},
     "output_type": "execute_result"
    }
   ],
   "source": [
    "steps=[('scaler', RobustScaler()),('LogReg', LogisticRegression(solver='liblinear'))]\n",
    "pipe=Pipeline(steps)\n",
    "parameters= {'LogReg__penalty': ['l1', 'l2'], 'LogReg__C': [0.01, 0.1, 1.0, 10.0, 100.0,1000.0]}\n",
    "kf=KFold(n_splits=5, shuffle=True, random_state=123)\n",
    "X_train, X_test, y_train, y_test= train_test_split(X,y, test_size=.2,random_state=123)\n",
    "cv=GridSearchCV(pipe,param_grid=parameters,cv=kf,scoring='f1_macro')\n",
    "cv.fit(X_train,y_train)"
   ]
  },
  {
   "cell_type": "code",
   "execution_count": 10,
   "metadata": {},
   "outputs": [
    {
     "data": {
      "text/plain": [
       "{'LogReg__C': 1000.0, 'LogReg__penalty': 'l1'}"
      ]
     },
     "execution_count": 10,
     "metadata": {},
     "output_type": "execute_result"
    }
   ],
   "source": [
    "cv.best_params_"
   ]
  },
  {
   "cell_type": "markdown",
   "metadata": {},
   "source": [
    "#### ROC Curve"
   ]
  },
  {
   "cell_type": "code",
   "execution_count": 11,
   "metadata": {},
   "outputs": [
    {
     "data": {
      "image/png": "[encoded data removed]",
      "text/plain": [
       "<Figure size 432x288 with 1 Axes>"
      ]
     },
     "metadata": {
      "needs_background": "light"
     },
     "output_type": "display_data"
    }
   ],
   "source": [
    "y_prob = cv.predict_proba(X_test)[:, 0]\n",
    "fpr, tpr, thresholds = roc_curve(y_test, y_prob, pos_label='high')\n",
    "auc = roc_auc_score(y_test, y_prob)\n",
    "plt.plot(fpr, tpr, label='ROC Curve')\n",
    "plt.plot([0, 1], [0, 1], linestyle='--', label='Random Classifier')\n",
    "plt.xlabel('False Positive Rate')\n",
    "plt.ylabel('True Positive Rate')\n",
    "plt.title('ROC')\n",
    "plt.legend()\n",
    "plt.show()"
   ]
  },
  {
   "cell_type": "code",
   "execution_count": 12,
   "metadata": {},
   "outputs": [],
   "source": [
    "record_results('Logistic Regression')"
   ]
  },
  {
   "cell_type": "markdown",
   "metadata": {},
   "source": [
    "#### PCA with Logistic Regression"
   ]
  },
  {
   "cell_type": "code",
   "execution_count": 13,
   "metadata": {},
   "outputs": [
    {
     "data": {
      "text/plain": [
       "GridSearchCV(cv=KFold(n_splits=5, random_state=123, shuffle=True),\n",
       "             estimator=Pipeline(steps=[('scaler', RobustScaler()),\n",
       "                                       ('pca', PCA()),\n",
       "                                       ('LogReg',\n",
       "                                        LogisticRegression(solver='liblinear'))]),\n",
       "             param_grid={'LogReg__C': [0.01, 0.1, 1.0, 10.0, 100.0, 1000.0],\n",
       "                         'LogReg__penalty': ['l1', 'l2'],\n",
       "                         'pca__n_components': [1, 2, 3, 4, 5, 6, 7, 8, 9, 10]},\n",
       "             scoring='f1_macro')"
      ]
     },
     "execution_count": 13,
     "metadata": {},
     "output_type": "execute_result"
    }
   ],
   "source": [
    "steps=[('scaler', RobustScaler()),('pca',PCA()),('LogReg', LogisticRegression(solver='liblinear'))]\n",
    "pipe=Pipeline(steps)\n",
    "parameters= {'pca__n_components':list(np.arange(1,X.shape[1]+1)),'LogReg__penalty': ['l1', 'l2'], 'LogReg__C': [0.01, 0.1, 1.0, 10.0, 100.0,1000.0]}\n",
    "kf=KFold(n_splits=5, shuffle=True, random_state=123)\n",
    "X_train, X_test, y_train, y_test= train_test_split(X,y, test_size=.2,random_state=123)\n",
    "cv=GridSearchCV(pipe,param_grid=parameters,cv=kf,scoring='f1_macro')\n",
    "cv.fit(X_train,y_train)"
   ]
  },
  {
   "cell_type": "code",
   "execution_count": 14,
   "metadata": {},
   "outputs": [
    {
     "data": {
      "text/plain": [
       "{'LogReg__C': 1.0, 'LogReg__penalty': 'l1', 'pca__n_components': 10}"
      ]
     },
     "execution_count": 14,
     "metadata": {},
     "output_type": "execute_result"
    }
   ],
   "source": [
    "cv.best_params_"
   ]
  },
  {
   "cell_type": "markdown",
   "metadata": {},
   "source": [
    "#### ROC Curve"
   ]
  },
  {
   "cell_type": "code",
   "execution_count": 15,
   "metadata": {},
   "outputs": [
    {
     "data": {
      "image/png": "[encoded data removed]",
      "text/plain": [
       "<Figure size 432x288 with 1 Axes>"
      ]
     },
     "metadata": {
      "needs_background": "light"
     },
     "output_type": "display_data"
    }
   ],
   "source": [
    "y_prob = cv.predict_proba(X_test)[:, 0]\n",
    "fpr, tpr, thresholds = roc_curve(y_test, y_prob, pos_label='high')\n",
    "auc = roc_auc_score(y_test, y_prob)\n",
    "plt.plot(fpr, tpr, label='ROC Curve')\n",
    "plt.plot([0, 1], [0, 1], linestyle='--', label='Random Classifier')\n",
    "plt.xlabel('False Positive Rate')\n",
    "plt.ylabel('True Positive Rate')\n",
    "plt.title('ROC')\n",
    "plt.legend()\n",
    "plt.show()"
   ]
  },
  {
   "cell_type": "code",
   "execution_count": 16,
   "metadata": {},
   "outputs": [],
   "source": [
    "record_results('Logistic Regression with PCA')"
   ]
  },
  {
   "cell_type": "markdown",
   "metadata": {},
   "source": [
    "### Random Forest"
   ]
  },
  {
   "cell_type": "code",
   "execution_count": 46,
   "metadata": {},
   "outputs": [],
   "source": [
    "num_features=X.shape[1]"
   ]
  },
  {
   "cell_type": "code",
   "execution_count": 47,
   "metadata": {},
   "outputs": [
    {
     "data": {
      "text/plain": [
       "RandomizedSearchCV(cv=KFold(n_splits=5, random_state=123, shuffle=True),\n",
       "                   estimator=Pipeline(steps=[('randomForest',\n",
       "                                              RandomForestClassifier())]),\n",
       "                   n_iter=50,\n",
       "                   param_distributions={'randomForest__criterion': ['gini',\n",
       "                                                                    'entropy'],\n",
       "                                        'randomForest__max_depth': <scipy.stats._distn_infrastructure.rv_frozen object at 0x00000242D97A8760>,\n",
       "                                        'randomForest__max_features': array([...,\n",
       "                                        'randomForest__min_samples_leaf': <scipy.stats._distn_infrastructure.rv_frozen object at 0x00000242D97CE1C0>,\n",
       "                                        'randomForest__min_samples_split': <scipy.stats._distn_infrastructure.rv_frozen object at 0x00000242D97C3400>,\n",
       "                                        'randomForest__n_estimators': <scipy.stats._distn_infrastructure.rv_frozen object at 0x00000242D9573700>},\n",
       "                   random_state=123, scoring='f1_macro')"
      ]
     },
     "execution_count": 47,
     "metadata": {},
     "output_type": "execute_result"
    }
   ],
   "source": [
    "steps=[('randomForest', RandomForestClassifier())]\n",
    "pipe=Pipeline(steps)\n",
    "parameters= {'randomForest__n_estimators': randint(20, 300), \n",
    "             'randomForest__max_depth': randint(10,100),\n",
    "             'randomForest__min_samples_split': randint(2,10),\n",
    "             'randomForest__min_samples_leaf' : randint(1,10),\n",
    "             'randomForest__max_features' : np.arange(num_features)+1,\n",
    "             'randomForest__criterion': ['gini', 'entropy']}\n",
    "kf=KFold(n_splits=5, shuffle=True, random_state=123)\n",
    "X_train, X_test, y_train, y_test= train_test_split(X,y, test_size=.2,random_state=123)\n",
    "cv=RandomizedSearchCV(pipe, param_distributions=parameters, cv=kf, scoring='f1_macro', n_iter=50, random_state=123)\n",
    "cv.fit(X_train,y_train)"
   ]
  },
  {
   "cell_type": "code",
   "execution_count": 48,
   "metadata": {},
   "outputs": [
    {
     "data": {
      "text/plain": [
       "{'randomForest__criterion': 'entropy',\n",
       " 'randomForest__max_depth': 87,\n",
       " 'randomForest__max_features': 10,\n",
       " 'randomForest__min_samples_leaf': 2,\n",
       " 'randomForest__min_samples_split': 7,\n",
       " 'randomForest__n_estimators': 101}"
      ]
     },
     "execution_count": 48,
     "metadata": {},
     "output_type": "execute_result"
    }
   ],
   "source": [
    "cv.best_params_"
   ]
  },
  {
   "cell_type": "markdown",
   "metadata": {},
   "source": [
    "#### ROC Curve"
   ]
  },
  {
   "cell_type": "code",
   "execution_count": 49,
   "metadata": {},
   "outputs": [
    {
     "data": {
      "image/png": "[encoded data removed]",
      "text/plain": [
       "<Figure size 432x288 with 1 Axes>"
      ]
     },
     "metadata": {
      "needs_background": "light"
     },
     "output_type": "display_data"
    }
   ],
   "source": [
    "y_prob = cv.predict_proba(X_test)[:, 0]\n",
    "fpr, tpr, thresholds = roc_curve(y_test, y_prob, pos_label='high')\n",
    "auc = roc_auc_score(y_test, y_prob)\n",
    "plt.plot(fpr, tpr, label='ROC Curve')\n",
    "plt.plot([0, 1], [0, 1], linestyle='--', label='Random Classifier')\n",
    "plt.xlabel('False Positive Rate')\n",
    "plt.ylabel('True Positive Rate')\n",
    "plt.title('ROC')\n",
    "plt.legend()\n",
    "plt.show()"
   ]
  },
  {
   "cell_type": "code",
   "execution_count": 50,
   "metadata": {},
   "outputs": [
    {
     "data": {
      "text/plain": [
       "array([0.02508251, 0.11172117, 0.38249253, 0.02942794, 0.53864494,\n",
       "       0.46577086, 0.02483105, 0.16452145, 0.25653422, 0.02722772,\n",
       "       0.00792079, 0.        , 0.6394193 , 0.08404805, 0.29648322,\n",
       "       0.44953638, 0.02681518, 0.17910184, 0.03069307, 0.7390014 ,\n",
       "       0.18411913, 0.        , 0.0049505 , 0.        , 0.12683876,\n",
       "       0.03616219, 0.01441144, 0.1836948 , 0.        , 0.15012537,\n",
       "       0.02752775, 0.04542669, 0.00660066, 0.04623605, 0.07248939,\n",
       "       0.02475248, 0.47202577, 0.18939965, 0.06122112, 0.04094767,\n",
       "       0.12599046, 0.04925743, 0.1229648 , 0.19627927, 0.49416049,\n",
       "       0.05901304, 0.39457017, 0.03292079, 0.00754361, 0.        ,\n",
       "       0.        , 0.67232438, 0.03784378, 0.08341191, 0.03580858,\n",
       "       0.49736402, 0.32569614, 0.04092016, 0.07995442, 0.22997693,\n",
       "       0.22766777, 0.31554298, 0.18821704, 0.04339934, 0.50410327,\n",
       "       0.02498821, 0.02656766, 0.01485149, 0.16684311, 0.16394389,\n",
       "       0.42085887, 0.7210196 , 0.03712871, 0.07612761, 0.        ,\n",
       "       0.23199749, 0.15685604, 0.07032846, 0.81221908, 0.13816989,\n",
       "       0.0049505 , 0.51114254, 0.64802373, 0.25439379, 0.40383074,\n",
       "       0.25869087, 0.10313531, 0.55310745, 0.05473833, 0.2548837 ,\n",
       "       0.09398083, 0.09068291, 0.76301273, 0.36029389, 0.08611504,\n",
       "       0.06737388, 0.1171735 , 0.09214207, 0.60783435, 0.08168317,\n",
       "       0.18261326, 0.04581958, 0.13193462, 0.25487584, 0.17168063,\n",
       "       0.0049505 , 0.66256376, 0.66512758, 0.22531885, 0.07723951,\n",
       "       0.27581437, 0.36320525, 0.11064749, 0.05445545, 0.31081751,\n",
       "       0.00123762, 0.00742574, 0.08854314, 0.03946252, 0.18885389,\n",
       "       0.13690869, 0.40851316, 0.40873741, 0.48871566, 0.39023199,\n",
       "       0.00565771, 0.07681518, 0.00973597, 0.02046205, 0.17215543,\n",
       "       0.2143993 , 0.01320132, 0.32566399, 0.15883553, 0.59458982,\n",
       "       0.30192912, 0.414959  , 0.42349521, 0.08573786, 0.26224122,\n",
       "       0.04720651, 0.02192362, 0.15335534, 0.55427436, 0.1275774 ,\n",
       "       0.34099946, 0.0154644 , 0.18650258, 0.30249096, 0.03866887,\n",
       "       0.08663366, 0.04207921, 0.54074729, 0.05335534, 0.14342184,\n",
       "       0.11786893, 0.02227723, 0.32593509, 0.07874823, 0.33828776,\n",
       "       0.00990099, 0.04876238, 0.219987  , 0.17224286, 0.08642936,\n",
       "       0.41385746, 0.70841977, 0.39167452, 0.13914284, 0.22336055,\n",
       "       0.        , 0.02722772, 0.41918478, 0.05346535, 0.50355989,\n",
       "       0.02325947, 0.00141443, 0.13169949, 0.15517445, 0.43691226,\n",
       "       0.00165017, 0.66014816, 0.04869951, 0.45847656, 0.15334033,\n",
       "       0.18245325, 0.43490099, 0.38651901, 0.04818482, 0.12211221,\n",
       "       0.46666667, 0.54526453, 0.17367443, 0.53714481, 0.11105218,\n",
       "       0.06163366, 0.56263948, 0.01848185, 0.05983027, 0.7323786 ,\n",
       "       0.05008251, 0.40884017, 0.        , 0.01485149, 0.77843361,\n",
       "       0.02192362, 0.02830033, 0.01485149, 0.31727566, 0.83701477,\n",
       "       0.08976898, 0.57718129, 0.25168945, 0.01980198, 0.30264026,\n",
       "       0.28459453, 0.30980051, 0.03342763, 0.51470279, 0.59452695,\n",
       "       0.18808309, 0.0019802 , 0.00990099, 0.09680968, 0.13253182,\n",
       "       0.        , 0.52309838, 0.07321625, 0.06641914, 0.82866572,\n",
       "       0.0049505 , 0.47336555, 0.52119462, 0.07645765, 0.16754675,\n",
       "       0.0777242 , 0.09333326, 0.01914191, 0.29966175, 0.13952673,\n",
       "       0.420666  , 0.30494621, 0.56505804, 0.36716922, 0.17919578,\n",
       "       0.13286972, 0.03976898, 0.09612211, 0.15966847, 0.05397218,\n",
       "       0.33121345, 0.03982398, 0.25093842, 0.10062042, 0.43586386,\n",
       "       0.02970297, 0.04589816, 0.00770077, 0.6508683 , 0.13151815,\n",
       "       0.67422242, 0.02739274, 0.        , 0.04266855, 0.04026403,\n",
       "       0.10403112, 0.63003028, 0.04130127, 0.28433915, 0.03664652,\n",
       "       0.09348971, 0.56970376, 0.64253032, 0.03193069, 0.29425978,\n",
       "       0.28871486, 0.04634999, 0.2577572 , 0.04570957, 0.05891089,\n",
       "       0.01320132, 0.03564356, 0.35467511, 0.00825083, 0.63222537,\n",
       "       0.6040204 , 0.        , 0.50094474, 0.52282335, 0.02062706,\n",
       "       0.04119126, 0.30713929, 0.14783121, 0.26232123, 0.03721122,\n",
       "       0.49819018, 0.28934251, 0.04966997, 0.56133435, 0.01603017,\n",
       "       0.03591859, 0.5137228 , 0.07075279, 0.13967468, 0.87902719,\n",
       "       0.        , 0.49025188, 0.3462832 , 0.        , 0.41696527,\n",
       "       0.39427121, 0.11805359, 0.30933129, 0.39519988, 0.18853885,\n",
       "       0.48659437, 0.16353921, 0.03415842, 0.03969826, 0.11374387,\n",
       "       0.46647808, 0.08077736, 0.16074572, 0.17129892, 0.45289172,\n",
       "       0.00742574, 0.0169967 , 0.56769213, 0.45247525, 0.06722065,\n",
       "       0.01320132, 0.75231809, 0.08838205, 0.08663366, 0.2017366 ,\n",
       "       0.0970297 , 0.50670388, 0.15965347, 0.40449927, 0.02310231,\n",
       "       0.52662659, 0.01720886, 0.34914741, 0.06589659, 0.04664466,\n",
       "       0.        , 0.18889614, 0.32656444, 0.0009901 , 0.28675607,\n",
       "       0.06930693, 0.11707921, 0.12929043, 0.81758604, 0.18200927,\n",
       "       0.03281471, 0.4217586 , 0.06359029, 0.01727173, 0.08650008,\n",
       "       0.58422914, 0.28843706, 0.58683797, 0.09935565, 0.01885903,\n",
       "       0.00330033, 0.        , 0.21441537, 0.49177864, 0.        ,\n",
       "       0.21725173, 0.35421971, 0.50583451, 0.04290429, 0.05025599,\n",
       "       0.48609932, 0.23857493, 0.25661638, 0.12604903, 0.11683168,\n",
       "       0.30749646, 0.04273927, 0.07367987, 0.39317539, 0.0877507 ,\n",
       "       0.14418906, 0.08050448, 0.02121641, 0.01485149, 0.21335526,\n",
       "       0.15330033, 0.24850699, 0.11278092, 0.01815182, 0.40104692,\n",
       "       0.42645825, 0.09180025, 0.42083832, 0.02412384, 0.39318325,\n",
       "       0.00528053, 0.30999136, 0.10771613, 0.36890618, 0.2219522 ,\n",
       "       0.10424328, 0.        , 0.68802166, 0.05454974, 0.0410066 ,\n",
       "       0.00330033, 0.22037954, 0.00825083, 0.02376238, 0.23177771,\n",
       "       0.2076897 , 0.19580744, 0.46515794, 0.09506915, 0.06320132,\n",
       "       0.03811881, 0.08651579, 0.01603017, 0.12538111, 0.58032375,\n",
       "       0.00165017, 0.58363193, 0.02027799, 0.06753675, 0.        ,\n",
       "       0.02970297, 0.20445902, 0.09153701, 0.07105139, 0.82887182,\n",
       "       0.15445962, 0.20541911, 0.27191576, 0.02117712, 0.33399483,\n",
       "       0.00792079, 0.01155116, 0.14372544, 0.06958982, 0.00506051,\n",
       "       0.04833912, 0.74458196, 0.53593931, 0.04780764, 0.25089187,\n",
       "       0.74286107, 0.67156144, 0.14119519, 0.34365079, 0.26250947,\n",
       "       0.0155587 , 0.04563885, 0.02164074, 0.05775578, 0.34511237,\n",
       "       0.4213107 , 0.01485149, 0.17738881, 0.22975798, 0.2108252 ,\n",
       "       0.44997357, 0.79275892, 0.11005815, 0.        , 0.0140264 ,\n",
       "       0.11727244, 0.13396197, 0.73769448, 0.02145215, 0.49682111,\n",
       "       0.07980262, 0.18805631, 0.31602803, 0.19775763, 0.22875277,\n",
       "       0.18051198, 0.48949395, 0.0704599 , 0.39028966, 0.27522717,\n",
       "       0.29930754, 0.77896397, 0.34932065, 0.38407591, 0.13781628,\n",
       "       0.39597281, 0.34663681, 0.52428529, 0.44826172, 0.7665019 ,\n",
       "       0.01567657, 0.34664074, 0.00660066, 0.44147415, 0.07391168,\n",
       "       0.0529703 , 0.11560585, 0.18239431, 0.51621448, 0.49738331,\n",
       "       0.03973897, 0.42968725, 0.19057441, 0.05552805, 0.47977823,\n",
       "       0.01725601, 0.12943652, 0.05693069, 0.12660302, 0.23120776,\n",
       "       0.0019802 , 0.05447509, 0.38338941, 0.01485149, 0.64348578,\n",
       "       0.13506268, 0.17087066, 0.60773577, 0.04207921, 0.02227723,\n",
       "       0.02376238, 0.44603639, 0.06544083, 0.49315932, 0.24130877,\n",
       "       0.38532103, 0.12145215, 0.22635156, 0.13570786, 0.16470309,\n",
       "       0.0580308 , 0.21872121, 0.19463696, 0.04741474, 0.50673856,\n",
       "       0.3994547 , 0.34887571, 0.17976583, 0.20568128, 0.11710278,\n",
       "       0.0049505 , 0.23951002, 0.11965661, 0.52400718, 0.03400519,\n",
       "       0.04636964, 0.01089109, 0.53754483, 0.02569543, 0.11549191,\n",
       "       0.02227723, 0.07665017, 0.79973997, 0.53928   , 0.12867751,\n",
       "       0.02475248, 0.11133256, 0.25942646, 0.01210121, 0.4474701 ,\n",
       "       0.25120226, 0.20006286, 0.11901226, 0.        , 0.0709571 ,\n",
       "       0.01740924, 0.178595  , 0.39447195, 0.08177746, 0.00990099,\n",
       "       0.05307638, 0.04626204, 0.00528053, 0.58360443, 0.32220651,\n",
       "       0.21534653, 0.00990099, 0.04026403, 0.04224422, 0.22811506,\n",
       "       0.27097531, 0.33898318, 0.52488213, 0.17070957, 0.05660066,\n",
       "       0.00165017, 0.08537639, 0.15126227, 0.01815182, 0.40955524,\n",
       "       0.25467214, 0.02310231, 0.06751532, 0.25911913, 0.74548955,\n",
       "       0.4225244 , 0.58948931, 0.63459346, 0.09509665, 0.11137496,\n",
       "       0.43197784, 0.37034025, 0.19948923, 0.08351407, 0.30011919,\n",
       "       0.25442187, 0.06624234, 0.00123762, 0.65054129, 0.41244484,\n",
       "       0.0519802 , 0.02965582, 0.39199777, 0.03031589, 0.30161838,\n",
       "       0.1544083 , 0.34672324, 0.08911314, 0.13020588, 0.06237624,\n",
       "       0.17032453, 0.59311187, 0.19212146, 0.63424842, 0.04015402,\n",
       "       0.56177868, 0.01925193, 0.04331683, 0.23168317, 0.1480048 ,\n",
       "       0.25070114, 0.02637121, 0.57993799, 0.46362565, 0.00990099,\n",
       "       0.23004872, 0.05253025, 0.07522456, 0.06525859, 0.74590995,\n",
       "       0.00165017, 0.2250943 , 0.69890346, 0.30811724, 0.0460396 ,\n",
       "       0.74290929, 0.60834262, 0.00282885, 0.08297973, 0.28819346,\n",
       "       0.25972812, 0.01870187, 0.05407826, 0.01386139, 0.08072843,\n",
       "       0.10734323, 0.0629813 , 0.67498417, 0.16405028, 0.11292629,\n",
       "       0.19817303, 0.15173267, 0.55239667, 0.4175389 , 0.32197291,\n",
       "       0.18050019, 0.32507465, 0.08284328, 0.3884367 , 0.14464518,\n",
       "       0.35263664, 0.61518973, 0.45916234, 0.19980677, 0.        ,\n",
       "       0.61775856, 0.27949081, 0.02145215, 0.04014248, 0.04664502,\n",
       "       0.39120912, 0.16290736, 0.35749646, 0.69270391, 0.40905258,\n",
       "       0.03665724, 0.05363036, 0.03858243, 0.10806331, 0.07619369,\n",
       "       0.15284517, 0.34986499, 0.05956453, 0.01650165, 0.36631306,\n",
       "       0.10436901, 0.09485306, 0.        , 0.14389439, 0.04556813,\n",
       "       0.3537443 , 0.05046755, 0.05272277, 0.07634371, 0.04420746,\n",
       "       0.55651815, 0.00123762, 0.05063649, 0.04804338, 0.42856178,\n",
       "       0.00330033, 0.10075008, 0.01485149, 0.19536382, 0.42794279,\n",
       "       0.10087259, 0.28803237, 0.28118993, 0.32094209, 0.06683168,\n",
       "       0.49269927, 0.48675455, 0.45198806, 0.02562471, 0.01237624,\n",
       "       0.21868223, 0.15060435, 0.23445309, 0.27383631, 0.02145215,\n",
       "       0.00907591, 0.44985856, 0.24468947, 0.29723472, 0.1414545 ,\n",
       "       0.18978862, 0.03483027, 0.15472726, 0.43094452, 0.54092766,\n",
       "       0.20725215, 0.14074729, 0.00990099, 0.6099835 , 0.43570393,\n",
       "       0.00935094, 0.02970297, 0.00330033, 0.35213307, 0.45872587,\n",
       "       0.03361622, 0.01591231, 0.00742574, 0.25831083, 0.22829247,\n",
       "       0.6894743 , 0.11023102, 0.26095909, 0.02310231, 0.25440044,\n",
       "       0.07122141, 0.27903771, 0.43006361, 0.27376238, 0.00990099,\n",
       "       0.1338166 , 0.07458746, 0.13662973, 0.00282885, 0.42798208,\n",
       "       0.0365983 , 0.03877888, 0.16014066, 0.01732673, 0.0915769 ,\n",
       "       0.0894743 , 0.22632692, 0.14081765, 0.06127613, 0.24945662,\n",
       "       0.06822254, 0.02447745, 0.03606789, 0.22618594, 0.39445945,\n",
       "       0.18338773, 0.12933293, 0.46145865])"
      ]
     },
     "execution_count": 50,
     "metadata": {},
     "output_type": "execute_result"
    }
   ],
   "source": [
    "y_prob"
   ]
  },
  {
   "cell_type": "code",
   "execution_count": 21,
   "metadata": {},
   "outputs": [],
   "source": [
    "record_results('Random Forest')"
   ]
  },
  {
   "cell_type": "markdown",
   "metadata": {},
   "source": [
    "#### Gradient Boosted Trees"
   ]
  },
  {
   "cell_type": "code",
   "execution_count": 37,
   "metadata": {},
   "outputs": [
    {
     "data": {
      "text/plain": [
       "RandomizedSearchCV(cv=KFold(n_splits=5, random_state=123, shuffle=True),\n",
       "                   estimator=Pipeline(steps=[('GBT',\n",
       "                                              GradientBoostingClassifier())]),\n",
       "                   n_iter=50,\n",
       "                   param_distributions={'GBT__learning_rate': <scipy.stats._distn_infrastructure.rv_frozen object at 0x00000242D6E142E0>,\n",
       "                                        'GBT__max_depth': <scipy.stats._distn_infrastructure.rv_frozen object at 0x00000242D76A3310>,\n",
       "                                        'G...\n",
       "                                        'GBT__min_samples_split': <scipy.stats._distn_infrastructure.rv_frozen object at 0x00000242D76A3220>,\n",
       "                                        'GBT__min_weight_fraction_leaf': <scipy.stats._distn_infrastructure.rv_frozen object at 0x00000242D7644250>,\n",
       "                                        'GBT__n_estimators': <scipy.stats._distn_infrastructure.rv_frozen object at 0x00000242D6F758B0>,\n",
       "                                        'GBT__subsample': <scipy.stats._distn_infrastructure.rv_frozen object at 0x00000242D7691940>},\n",
       "                   random_state=123, scoring='f1_macro')"
      ]
     },
     "execution_count": 37,
     "metadata": {},
     "output_type": "execute_result"
    }
   ],
   "source": [
    "steps=[('GBT', GradientBoostingClassifier())]\n",
    "pipe=Pipeline(steps)\n",
    "parameters= {'GBT__learning_rate': uniform(0,100),\n",
    "             'GBT__n_estimators': randint(1,1000),\n",
    "             'GBT__subsample' : uniform(0,1),\n",
    "             'GBT__min_samples_split': randint(2,10),\n",
    "             'GBT__min_weight_fraction_leaf' : uniform(0.0,0.5),\n",
    "             'GBT__max_depth' : randint(1,10),\n",
    "             'GBT__max_features' : np.arange(num_features)+1,\n",
    "             'GBT__min_samples_leaf': randint(1,10),\n",
    "            }\n",
    "kf=KFold(n_splits=5, shuffle=True, random_state=123)\n",
    "X_train, X_test, y_train, y_test= train_test_split(X,y, test_size=.2,random_state=123)\n",
    "cv=RandomizedSearchCV(pipe, param_distributions=parameters, cv=kf, scoring='f1_macro', n_iter=50, random_state=123)\n",
    "cv.fit(X_train,y_train)"
   ]
  },
  {
   "cell_type": "code",
   "execution_count": 38,
   "metadata": {},
   "outputs": [
    {
     "data": {
      "text/plain": [
       "{'GBT__learning_rate': 8.482227744523364,\n",
       " 'GBT__max_depth': 3,\n",
       " 'GBT__max_features': 8,\n",
       " 'GBT__min_samples_leaf': 8,\n",
       " 'GBT__min_samples_split': 3,\n",
       " 'GBT__min_weight_fraction_leaf': 0.11273168015297996,\n",
       " 'GBT__n_estimators': 494,\n",
       " 'GBT__subsample': 0.28141752377861584}"
      ]
     },
     "execution_count": 38,
     "metadata": {},
     "output_type": "execute_result"
    }
   ],
   "source": [
    "cv.best_params_"
   ]
  },
  {
   "cell_type": "markdown",
   "metadata": {},
   "source": [
    "#### ROC Curve"
   ]
  },
  {
   "cell_type": "code",
   "execution_count": 39,
   "metadata": {},
   "outputs": [
    {
     "data": {
      "image/png": "[encoded data removed]",
      "text/plain": [
       "<Figure size 432x288 with 1 Axes>"
      ]
     },
     "metadata": {
      "needs_background": "light"
     },
     "output_type": "display_data"
    }
   ],
   "source": [
    "y_prob = cv.predict_proba(X_test)[:, 0]\n",
    "fpr, tpr, thresholds = roc_curve(y_test, y_prob, pos_label='high')\n",
    "auc = roc_auc_score(y_test, y_prob)\n",
    "plt.plot(fpr, tpr, label='ROC Curve')\n",
    "plt.plot([0, 1], [0, 1], linestyle='--', label='Random Classifier')\n",
    "plt.xlabel('False Positive Rate')\n",
    "plt.ylabel('True Positive Rate')\n",
    "plt.title('ROC')\n",
    "plt.legend()\n",
    "plt.show()"
   ]
  },
  {
   "cell_type": "markdown",
   "metadata": {},
   "source": [
    "this curve only has 3 points, y_prob only has 1s and 0s. due to hyperparamters?\n"
   ]
  },
  {
   "cell_type": "code",
   "execution_count": 45,
   "metadata": {},
   "outputs": [],
   "source": [
    "record_results('Gradient Boosted Trees')"
   ]
  },
  {
   "cell_type": "code",
   "execution_count": 41,
   "metadata": {},
   "outputs": [],
   "source": [
    "data = {'f1_test': f1_,\n",
    "        'best training f1': best_score,\n",
    "        'Test Accuracy': test_acc,\n",
    "        'ROC' : roc}"
   ]
  },
  {
   "cell_type": "code",
   "execution_count": 42,
   "metadata": {},
   "outputs": [
    {
     "data": {
      "text/html": [
       "<div>\n",
       "<style scoped>\n",
       "    .dataframe tbody tr th:only-of-type {\n",
       "        vertical-align: middle;\n",
       "    }\n",
       "\n",
       "    .dataframe tbody tr th {\n",
       "        vertical-align: top;\n",
       "    }\n",
       "\n",
       "    .dataframe thead th {\n",
       "        text-align: right;\n",
       "    }\n",
       "</style>\n",
       "<table border=\"1\" class=\"dataframe\">\n",
       "  <thead>\n",
       "    <tr style=\"text-align: right;\">\n",
       "      <th></th>\n",
       "      <th>f1_test</th>\n",
       "      <th>best training f1</th>\n",
       "      <th>Test Accuracy</th>\n",
       "      <th>ROC</th>\n",
       "    </tr>\n",
       "  </thead>\n",
       "  <tbody>\n",
       "    <tr>\n",
       "      <th>Gradient Boosted Trees</th>\n",
       "      <td>0.537286</td>\n",
       "      <td>0.560125</td>\n",
       "      <td>0.641866</td>\n",
       "      <td>0.45199</td>\n",
       "    </tr>\n",
       "  </tbody>\n",
       "</table>\n",
       "</div>"
      ],
      "text/plain": [
       "                         f1_test  best training f1  Test Accuracy      ROC\n",
       "Gradient Boosted Trees  0.537286          0.560125       0.641866  0.45199"
      ]
     },
     "execution_count": 42,
     "metadata": {},
     "output_type": "execute_result"
    }
   ],
   "source": [
    "pd.DataFrame(data, index=model)"
   ]
  },
  {
   "cell_type": "markdown",
   "metadata": {},
   "source": [
    "### Conclusion"
   ]
  },
  {
   "cell_type": "markdown",
   "metadata": {},
   "source": [
    "Out of our 3 models: logistic regression, random forest, and gradient boosted trees, it seems like random forest performs the best."
   ]
  },
  {
   "cell_type": "code",
   "execution_count": 28,
   "metadata": {},
   "outputs": [],
   "source": [
    "#stratify?"
   ]
  }
 ],
 "metadata": {
  "kernelspec": {
   "display_name": "Python 3",
   "language": "python",
   "name": "python3"
  },
  "language_info": {
   "codemirror_mode": {
    "name": "ipython",
    "version": 3
   },
   "file_extension": ".py",
   "mimetype": "text/x-python",
   "name": "python",
   "nbconvert_exporter": "python",
   "pygments_lexer": "ipython3",
   "version": "3.8.3"
  }
 },
 "nbformat": 4,
 "nbformat_minor": 4
}
