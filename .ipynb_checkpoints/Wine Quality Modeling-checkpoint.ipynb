{
 "cells": [
  {
   "cell_type": "code",
   "execution_count": 29,
   "metadata": {},
   "outputs": [],
   "source": [
    "import pandas as pd\n",
    "import matplotlib.pyplot as plt\n",
    "import numpy as np\n",
    "from sklearn.preprocessing import RobustScaler\n",
    "from sklearn.model_selection import train_test_split, GridSearchCV, KFold, RandomizedSearchCV\n",
    "from sklearn.pipeline import Pipeline\n",
    "from sklearn.metrics import f1_score, roc_curve, roc_auc_score\n",
    "from sklearn.linear_model import LogisticRegression\n",
    "from sklearn.decomposition import PCA\n",
    "from sklearn.ensemble import RandomForestClassifier, GradientBoostingClassifier\n",
    "from scipy.stats import randint, uniform"
   ]
  },
  {
   "cell_type": "markdown",
   "metadata": {},
   "source": [
    "## Load data"
   ]
  },
  {
   "cell_type": "code",
   "execution_count": 2,
   "metadata": {
    "scrolled": true
   },
   "outputs": [
    {
     "data": {
      "text/html": [
       "<div>\n",
       "<style scoped>\n",
       "    .dataframe tbody tr th:only-of-type {\n",
       "        vertical-align: middle;\n",
       "    }\n",
       "\n",
       "    .dataframe tbody tr th {\n",
       "        vertical-align: top;\n",
       "    }\n",
       "\n",
       "    .dataframe thead th {\n",
       "        text-align: right;\n",
       "    }\n",
       "</style>\n",
       "<table border=\"1\" class=\"dataframe\">\n",
       "  <thead>\n",
       "    <tr style=\"text-align: right;\">\n",
       "      <th></th>\n",
       "      <th>fixed acidity</th>\n",
       "      <th>volatile acidity</th>\n",
       "      <th>citric acid</th>\n",
       "      <th>residual sugar</th>\n",
       "      <th>chlorides</th>\n",
       "      <th>free sulfur dioxide</th>\n",
       "      <th>total sulfur dioxide</th>\n",
       "      <th>density</th>\n",
       "      <th>pH</th>\n",
       "      <th>sulphates</th>\n",
       "      <th>alcohol</th>\n",
       "      <th>quality</th>\n",
       "    </tr>\n",
       "  </thead>\n",
       "  <tbody>\n",
       "    <tr>\n",
       "      <th>0</th>\n",
       "      <td>7.0</td>\n",
       "      <td>0.27</td>\n",
       "      <td>0.36</td>\n",
       "      <td>20.7</td>\n",
       "      <td>0.045</td>\n",
       "      <td>45.0</td>\n",
       "      <td>170.0</td>\n",
       "      <td>1.0010</td>\n",
       "      <td>3.00</td>\n",
       "      <td>0.45</td>\n",
       "      <td>8.8</td>\n",
       "      <td>6</td>\n",
       "    </tr>\n",
       "    <tr>\n",
       "      <th>1</th>\n",
       "      <td>6.3</td>\n",
       "      <td>0.30</td>\n",
       "      <td>0.34</td>\n",
       "      <td>1.6</td>\n",
       "      <td>0.049</td>\n",
       "      <td>14.0</td>\n",
       "      <td>132.0</td>\n",
       "      <td>0.9940</td>\n",
       "      <td>3.30</td>\n",
       "      <td>0.49</td>\n",
       "      <td>9.5</td>\n",
       "      <td>6</td>\n",
       "    </tr>\n",
       "    <tr>\n",
       "      <th>2</th>\n",
       "      <td>8.1</td>\n",
       "      <td>0.28</td>\n",
       "      <td>0.40</td>\n",
       "      <td>6.9</td>\n",
       "      <td>0.050</td>\n",
       "      <td>30.0</td>\n",
       "      <td>97.0</td>\n",
       "      <td>0.9951</td>\n",
       "      <td>3.26</td>\n",
       "      <td>0.44</td>\n",
       "      <td>10.1</td>\n",
       "      <td>6</td>\n",
       "    </tr>\n",
       "    <tr>\n",
       "      <th>3</th>\n",
       "      <td>7.2</td>\n",
       "      <td>0.23</td>\n",
       "      <td>0.32</td>\n",
       "      <td>8.5</td>\n",
       "      <td>0.058</td>\n",
       "      <td>47.0</td>\n",
       "      <td>186.0</td>\n",
       "      <td>0.9956</td>\n",
       "      <td>3.19</td>\n",
       "      <td>0.40</td>\n",
       "      <td>9.9</td>\n",
       "      <td>6</td>\n",
       "    </tr>\n",
       "    <tr>\n",
       "      <th>4</th>\n",
       "      <td>6.2</td>\n",
       "      <td>0.32</td>\n",
       "      <td>0.16</td>\n",
       "      <td>7.0</td>\n",
       "      <td>0.045</td>\n",
       "      <td>30.0</td>\n",
       "      <td>136.0</td>\n",
       "      <td>0.9949</td>\n",
       "      <td>3.18</td>\n",
       "      <td>0.47</td>\n",
       "      <td>9.6</td>\n",
       "      <td>6</td>\n",
       "    </tr>\n",
       "  </tbody>\n",
       "</table>\n",
       "</div>"
      ],
      "text/plain": [
       "   fixed acidity  volatile acidity  citric acid  residual sugar  chlorides  \\\n",
       "0            7.0              0.27         0.36            20.7      0.045   \n",
       "1            6.3              0.30         0.34             1.6      0.049   \n",
       "2            8.1              0.28         0.40             6.9      0.050   \n",
       "3            7.2              0.23         0.32             8.5      0.058   \n",
       "4            6.2              0.32         0.16             7.0      0.045   \n",
       "\n",
       "   free sulfur dioxide  total sulfur dioxide  density    pH  sulphates  \\\n",
       "0                 45.0                 170.0   1.0010  3.00       0.45   \n",
       "1                 14.0                 132.0   0.9940  3.30       0.49   \n",
       "2                 30.0                  97.0   0.9951  3.26       0.44   \n",
       "3                 47.0                 186.0   0.9956  3.19       0.40   \n",
       "4                 30.0                 136.0   0.9949  3.18       0.47   \n",
       "\n",
       "   alcohol  quality  \n",
       "0      8.8        6  \n",
       "1      9.5        6  \n",
       "2     10.1        6  \n",
       "3      9.9        6  \n",
       "4      9.6        6  "
      ]
     },
     "execution_count": 2,
     "metadata": {},
     "output_type": "execute_result"
    }
   ],
   "source": [
    "white_wine_path='./Data/no-duplicates-winequality-white.csv'\n",
    "w_df=pd.read_csv(white_wine_path, sep=',')\n",
    "w_df.head()"
   ]
  },
  {
   "cell_type": "markdown",
   "metadata": {},
   "source": [
    "### Logistic Regression"
   ]
  },
  {
   "cell_type": "markdown",
   "metadata": {},
   "source": [
    "Our response variable comes from a 'quality' distribution that ranges from 0-10. In order to apply a binary Logistic regression model to this dataset, we have to bin our response variable into 'low' and 'high' quality. "
   ]
  },
  {
   "cell_type": "code",
   "execution_count": 3,
   "metadata": {},
   "outputs": [
    {
     "data": {
      "text/plain": [
       "3      20\n",
       "4     153\n",
       "5    1175\n",
       "6    1788\n",
       "7     689\n",
       "8     131\n",
       "9       5\n",
       "Name: quality, dtype: int64"
      ]
     },
     "execution_count": 3,
     "metadata": {},
     "output_type": "execute_result"
    }
   ],
   "source": [
    "quality_freq=w_df['quality'].value_counts().sort_index()\n",
    "quality_freq"
   ]
  },
  {
   "cell_type": "code",
   "execution_count": 4,
   "metadata": {},
   "outputs": [],
   "source": [
    "ranges=[0,6,10]\n",
    "group_names=['low', 'high']\n",
    "w_df['quality_bin']=pd.cut(w_df['quality'], bins=ranges, labels=group_names)"
   ]
  },
  {
   "cell_type": "code",
   "execution_count": 5,
   "metadata": {},
   "outputs": [
    {
     "data": {
      "text/plain": [
       "low     3136\n",
       "high     825\n",
       "Name: quality_bin, dtype: int64"
      ]
     },
     "execution_count": 5,
     "metadata": {},
     "output_type": "execute_result"
    }
   ],
   "source": [
    "w_df['quality_bin'].value_counts().sort_index()"
   ]
  },
  {
   "cell_type": "markdown",
   "metadata": {},
   "source": [
    "We drop the alcohol column as well because it has high correlation with the density feature."
   ]
  },
  {
   "cell_type": "code",
   "execution_count": 6,
   "metadata": {},
   "outputs": [],
   "source": [
    "y=w_df['quality_bin']\n",
    "X=w_df.drop(['quality', 'quality_bin','alcohol'], axis=1)"
   ]
  },
  {
   "cell_type": "markdown",
   "metadata": {},
   "source": [
    "We set up a pipeline that includes scaling the data using RobustScaler and a grid search over the the parameters penalty (lasso vs ridge regression regularization) and C (regularization strength)"
   ]
  },
  {
   "cell_type": "code",
   "execution_count": 7,
   "metadata": {},
   "outputs": [
    {
     "data": {
      "text/plain": [
       "GridSearchCV(cv=KFold(n_splits=5, random_state=123, shuffle=True),\n",
       "             estimator=Pipeline(steps=[('scaler', RobustScaler()),\n",
       "                                       ('LogReg',\n",
       "                                        LogisticRegression(solver='liblinear'))]),\n",
       "             param_grid={'LogReg__C': [0.01, 0.1, 1.0, 10.0, 100.0, 1000.0],\n",
       "                         'LogReg__penalty': ['l1', 'l2']},\n",
       "             scoring='f1_macro')"
      ]
     },
     "execution_count": 7,
     "metadata": {},
     "output_type": "execute_result"
    }
   ],
   "source": [
    "steps=[('scaler', RobustScaler()),('LogReg', LogisticRegression(solver='liblinear'))]\n",
    "pipe=Pipeline(steps)\n",
    "parameters= {'LogReg__penalty': ['l1', 'l2'], 'LogReg__C': [0.01, 0.1, 1.0, 10.0, 100.0,1000.0]}\n",
    "kf=KFold(n_splits=5, shuffle=True, random_state=123)\n",
    "X_train, X_test, y_train, y_test= train_test_split(X,y, test_size=.2,random_state=123)\n",
    "cv=GridSearchCV(pipe,param_grid=parameters,cv=kf,scoring='f1_macro')\n",
    "cv.fit(X_train,y_train)"
   ]
  },
  {
   "cell_type": "code",
   "execution_count": 8,
   "metadata": {},
   "outputs": [
    {
     "data": {
      "text/plain": [
       "0.667990033757572"
      ]
     },
     "execution_count": 8,
     "metadata": {},
     "output_type": "execute_result"
    }
   ],
   "source": [
    "y_pred=cv.predict(X_test)\n",
    "f1=f1_score(y_test,y_pred, average='macro')\n",
    "f1"
   ]
  },
  {
   "cell_type": "code",
   "execution_count": 9,
   "metadata": {},
   "outputs": [
    {
     "data": {
      "text/plain": [
       "{'LogReg__C': 1000.0, 'LogReg__penalty': 'l1'}"
      ]
     },
     "execution_count": 9,
     "metadata": {},
     "output_type": "execute_result"
    }
   ],
   "source": [
    "cv.best_params_"
   ]
  },
  {
   "cell_type": "code",
   "execution_count": 10,
   "metadata": {},
   "outputs": [
    {
     "data": {
      "text/plain": [
       "0.6373735514865471"
      ]
     },
     "execution_count": 10,
     "metadata": {},
     "output_type": "execute_result"
    }
   ],
   "source": [
    "cv.best_score_"
   ]
  },
  {
   "cell_type": "markdown",
   "metadata": {},
   "source": [
    "#### ROC Curve"
   ]
  },
  {
   "cell_type": "code",
   "execution_count": 11,
   "metadata": {},
   "outputs": [
    {
     "data": {
      "image/png": "[encoded data removed]",
      "text/plain": [
       "<Figure size 432x288 with 1 Axes>"
      ]
     },
     "metadata": {
      "needs_background": "light"
     },
     "output_type": "display_data"
    },
    {
     "name": "stdout",
     "output_type": "stream",
     "text": [
      "0.16881409658773078\n"
     ]
    }
   ],
   "source": [
    "y_prob = cv.predict_proba(X_test)[:, 0]\n",
    "fpr, tpr, thresholds = roc_curve(y_test, y_prob, pos_label='high')\n",
    "auc = roc_auc_score(y_test, y_prob)\n",
    "plt.plot(fpr, tpr, label='ROC Curve')\n",
    "plt.plot([0, 1], [0, 1], linestyle='--', label='Random Classifier')\n",
    "plt.xlabel('False Positive Rate')\n",
    "plt.ylabel('True Positive Rate')\n",
    "plt.title('ROC')\n",
    "plt.legend()\n",
    "plt.show()\n",
    "print(auc)"
   ]
  },
  {
   "cell_type": "markdown",
   "metadata": {},
   "source": [
    "#### PCA"
   ]
  },
  {
   "cell_type": "code",
   "execution_count": 12,
   "metadata": {},
   "outputs": [
    {
     "data": {
      "text/plain": [
       "GridSearchCV(cv=KFold(n_splits=5, random_state=123, shuffle=True),\n",
       "             estimator=Pipeline(steps=[('scaler', RobustScaler()),\n",
       "                                       ('pca', PCA()),\n",
       "                                       ('LogReg',\n",
       "                                        LogisticRegression(solver='liblinear'))]),\n",
       "             param_grid={'LogReg__C': [0.01, 0.1, 1.0, 10.0, 100.0, 1000.0],\n",
       "                         'LogReg__penalty': ['l1', 'l2'],\n",
       "                         'pca__n_components': [1, 2, 3, 4, 5, 6, 7, 8, 9, 10]},\n",
       "             scoring='f1_macro')"
      ]
     },
     "execution_count": 12,
     "metadata": {},
     "output_type": "execute_result"
    }
   ],
   "source": [
    "steps=[('scaler', RobustScaler()),('pca',PCA()),('LogReg', LogisticRegression(solver='liblinear'))]\n",
    "pipe=Pipeline(steps)\n",
    "parameters= {'pca__n_components':list(np.arange(1,X.shape[1]+1)),'LogReg__penalty': ['l1', 'l2'], 'LogReg__C': [0.01, 0.1, 1.0, 10.0, 100.0,1000.0]}\n",
    "kf=KFold(n_splits=5, shuffle=True, random_state=123)\n",
    "X_train, X_test, y_train, y_test= train_test_split(X,y, test_size=.2,random_state=123)\n",
    "cv=GridSearchCV(pipe,param_grid=parameters,cv=kf,scoring='f1_macro')\n",
    "cv.fit(X_train,y_train)"
   ]
  },
  {
   "cell_type": "code",
   "execution_count": 13,
   "metadata": {},
   "outputs": [
    {
     "data": {
      "text/plain": [
       "0.6646146616541353"
      ]
     },
     "execution_count": 13,
     "metadata": {},
     "output_type": "execute_result"
    }
   ],
   "source": [
    "y_pred=cv.predict(X_test)\n",
    "f1=f1_score(y_test,y_pred, average='macro')\n",
    "f1"
   ]
  },
  {
   "cell_type": "code",
   "execution_count": 14,
   "metadata": {},
   "outputs": [
    {
     "data": {
      "text/plain": [
       "{'LogReg__C': 1.0, 'LogReg__penalty': 'l1', 'pca__n_components': 10}"
      ]
     },
     "execution_count": 14,
     "metadata": {},
     "output_type": "execute_result"
    }
   ],
   "source": [
    "cv.best_params_"
   ]
  },
  {
   "cell_type": "code",
   "execution_count": 15,
   "metadata": {},
   "outputs": [
    {
     "data": {
      "text/plain": [
       "0.6374077022831051"
      ]
     },
     "execution_count": 15,
     "metadata": {},
     "output_type": "execute_result"
    }
   ],
   "source": [
    "cv.best_score_"
   ]
  },
  {
   "cell_type": "markdown",
   "metadata": {},
   "source": [
    "### Random Forest"
   ]
  },
  {
   "cell_type": "code",
   "execution_count": 16,
   "metadata": {},
   "outputs": [],
   "source": [
    "num_features=X.shape[1]"
   ]
  },
  {
   "cell_type": "code",
   "execution_count": 22,
   "metadata": {
    "collapsed": true
   },
   "outputs": [
    {
     "data": {
      "text/plain": [
       "RandomizedSearchCV(cv=KFold(n_splits=5, random_state=123, shuffle=True),\n",
       "                   estimator=Pipeline(steps=[('randomForest',\n",
       "                                              RandomForestClassifier())]),\n",
       "                   n_iter=50,\n",
       "                   param_distributions={'randomForest__criterion': ['gini',\n",
       "                                                                    'entropy'],\n",
       "                                        'randomForest__max_depth': <scipy.stats._distn_infrastructure.rv_frozen object at 0x000002487C9661F0>,\n",
       "                                        'randomForest__max_features': array([...,\n",
       "                                        'randomForest__min_samples_leaf': <scipy.stats._distn_infrastructure.rv_frozen object at 0x000002487C186640>,\n",
       "                                        'randomForest__min_samples_split': <scipy.stats._distn_infrastructure.rv_frozen object at 0x000002487C1D7A60>,\n",
       "                                        'randomForest__n_estimators': <scipy.stats._distn_infrastructure.rv_frozen object at 0x0000024876CB6040>},\n",
       "                   random_state=123, scoring='f1_macro')"
      ]
     },
     "execution_count": 22,
     "metadata": {},
     "output_type": "execute_result"
    }
   ],
   "source": [
    "steps=[('randomForest', RandomForestClassifier())]\n",
    "pipe=Pipeline(steps)\n",
    "parameters= {'randomForest__n_estimators': randint(20, 300), \n",
    "             'randomForest__max_depth': randint(10,100),\n",
    "             'randomForest__min_samples_split': randint(2,10),\n",
    "             'randomForest__min_samples_leaf' : randint(1,10),\n",
    "             'randomForest__max_features' : np.arange(num_features)+1,\n",
    "             'randomForest__criterion': ['gini', 'entropy']}\n",
    "kf=KFold(n_splits=5, shuffle=True, random_state=123)\n",
    "X_train, X_test, y_train, y_test= train_test_split(X,y, test_size=.2,random_state=123)\n",
    "cv=RandomizedSearchCV(pipe, param_distributions=parameters, cv=kf, scoring='f1_macro', n_iter=50, random_state=123)\n",
    "cv.fit(X_train,y_train)"
   ]
  },
  {
   "cell_type": "code",
   "execution_count": 23,
   "metadata": {},
   "outputs": [
    {
     "data": {
      "text/plain": [
       "0.6928457507404876"
      ]
     },
     "execution_count": 23,
     "metadata": {},
     "output_type": "execute_result"
    }
   ],
   "source": [
    "y_pred=cv.predict(X_test)\n",
    "f1=f1_score(y_test,y_pred, average='macro')\n",
    "f1"
   ]
  },
  {
   "cell_type": "code",
   "execution_count": 24,
   "metadata": {},
   "outputs": [
    {
     "data": {
      "text/plain": [
       "{'randomForest__criterion': 'entropy',\n",
       " 'randomForest__max_depth': 69,\n",
       " 'randomForest__max_features': 7,\n",
       " 'randomForest__min_samples_leaf': 1,\n",
       " 'randomForest__min_samples_split': 2,\n",
       " 'randomForest__n_estimators': 120}"
      ]
     },
     "execution_count": 24,
     "metadata": {},
     "output_type": "execute_result"
    }
   ],
   "source": [
    "cv.best_params_"
   ]
  },
  {
   "cell_type": "code",
   "execution_count": 25,
   "metadata": {},
   "outputs": [
    {
     "data": {
      "text/plain": [
       "0.6876576801835328"
      ]
     },
     "execution_count": 25,
     "metadata": {},
     "output_type": "execute_result"
    }
   ],
   "source": [
    "cv.best_score_"
   ]
  },
  {
   "cell_type": "code",
   "execution_count": 26,
   "metadata": {},
   "outputs": [
    {
     "data": {
      "image/png": "[encoded data removed]",
      "text/plain": [
       "<Figure size 432x288 with 1 Axes>"
      ]
     },
     "metadata": {
      "needs_background": "light"
     },
     "output_type": "display_data"
    },
    {
     "name": "stdout",
     "output_type": "stream",
     "text": [
      "0.1393622972217043\n"
     ]
    }
   ],
   "source": [
    "y_prob = cv.predict_proba(X_test)[:, 0]\n",
    "fpr, tpr, thresholds = roc_curve(y_test, y_prob, pos_label='high')\n",
    "auc = roc_auc_score(y_test, y_prob)\n",
    "plt.plot(fpr, tpr, label='ROC Curve')\n",
    "plt.plot([0, 1], [0, 1], linestyle='--', label='Random Classifier')\n",
    "plt.xlabel('False Positive Rate')\n",
    "plt.ylabel('True Positive Rate')\n",
    "plt.title('ROC')\n",
    "plt.legend()\n",
    "plt.show()\n",
    "print(auc)"
   ]
  },
  {
   "cell_type": "markdown",
   "metadata": {},
   "source": [
    "#### Gradient Boosted Trees"
   ]
  },
  {
   "cell_type": "code",
   "execution_count": 33,
   "metadata": {},
   "outputs": [
    {
     "data": {
      "text/plain": [
       "RandomizedSearchCV(cv=KFold(n_splits=5, random_state=123, shuffle=True),\n",
       "                   estimator=Pipeline(steps=[('GBT',\n",
       "                                              GradientBoostingClassifier())]),\n",
       "                   n_iter=50,\n",
       "                   param_distributions={'GBT__learning_rate': <scipy.stats._distn_infrastructure.rv_frozen object at 0x000002487F167FD0>,\n",
       "                                        'GBT__max_depth': <scipy.stats._distn_infrastructure.rv_frozen object at 0x000002487D949910>,\n",
       "                                        'G...\n",
       "                                        'GBT__min_samples_split': <scipy.stats._distn_infrastructure.rv_frozen object at 0x000002487F586D00>,\n",
       "                                        'GBT__min_weight_fraction_leaf': <scipy.stats._distn_infrastructure.rv_frozen object at 0x000002487C2209D0>,\n",
       "                                        'GBT__n_estimators': <scipy.stats._distn_infrastructure.rv_frozen object at 0x000002487F586A30>,\n",
       "                                        'GBT__subsample': <scipy.stats._distn_infrastructure.rv_frozen object at 0x000002487E7EE610>},\n",
       "                   random_state=123, scoring='f1_macro')"
      ]
     },
     "execution_count": 33,
     "metadata": {},
     "output_type": "execute_result"
    }
   ],
   "source": [
    "steps=[('GBT', GradientBoostingClassifier())]\n",
    "pipe=Pipeline(steps)\n",
    "parameters= {'GBT__learning_rate': uniform(0,100),\n",
    "             'GBT__n_estimators': randint(1,1000),\n",
    "             'GBT__subsample' : uniform(0,1),\n",
    "             'GBT__min_samples_split': randint(2,10),\n",
    "             'GBT__min_weight_fraction_leaf' : uniform(0.0,0.5),\n",
    "             'GBT__max_depth' : randint(1,10),\n",
    "             'GBT__max_features' : np.arange(num_features)+1,\n",
    "             'GBT__min_samples_leaf': randint(1,10),\n",
    "            }\n",
    "kf=KFold(n_splits=5, shuffle=True, random_state=123)\n",
    "X_train, X_test, y_train, y_test= train_test_split(X,y, test_size=.2,random_state=123)\n",
    "cv=RandomizedSearchCV(pipe, param_distributions=parameters, cv=kf, scoring='f1_macro', n_iter=50, random_state=123)\n",
    "cv.fit(X_train,y_train)"
   ]
  },
  {
   "cell_type": "code",
   "execution_count": 34,
   "metadata": {},
   "outputs": [
    {
     "data": {
      "text/plain": [
       "0.48995530791961306"
      ]
     },
     "execution_count": 34,
     "metadata": {},
     "output_type": "execute_result"
    }
   ],
   "source": [
    "y_pred=cv.predict(X_test)\n",
    "f1=f1_score(y_test,y_pred, average='macro')\n",
    "f1"
   ]
  },
  {
   "cell_type": "code",
   "execution_count": 35,
   "metadata": {},
   "outputs": [
    {
     "data": {
      "text/plain": [
       "{'GBT__learning_rate': 9.571251661238712,\n",
       " 'GBT__max_depth': 4,\n",
       " 'GBT__max_features': 5,\n",
       " 'GBT__min_samples_leaf': 4,\n",
       " 'GBT__min_samples_split': 3,\n",
       " 'GBT__min_weight_fraction_leaf': 0.008064603347508414,\n",
       " 'GBT__n_estimators': 17,\n",
       " 'GBT__subsample': 0.30988350925434516}"
      ]
     },
     "execution_count": 35,
     "metadata": {},
     "output_type": "execute_result"
    }
   ],
   "source": [
    "cv.best_params_"
   ]
  },
  {
   "cell_type": "code",
   "execution_count": 36,
   "metadata": {},
   "outputs": [
    {
     "data": {
      "text/plain": [
       "0.4979634982982115"
      ]
     },
     "execution_count": 36,
     "metadata": {},
     "output_type": "execute_result"
    }
   ],
   "source": [
    "cv.best_score_"
   ]
  },
  {
   "cell_type": "markdown",
   "metadata": {},
   "source": [
    "### Conclusion"
   ]
  },
  {
   "cell_type": "markdown",
   "metadata": {},
   "source": [
    "Out of our 3 models: logistic regression, random forest, and gradient boosted trees, it seems like random forest performs the best."
   ]
  },
  {
   "cell_type": "code",
   "execution_count": null,
   "metadata": {},
   "outputs": [],
   "source": []
  }
 ],
 "metadata": {
  "kernelspec": {
   "display_name": "Python 3",
   "language": "python",
   "name": "python3"
  },
  "language_info": {
   "codemirror_mode": {
    "name": "ipython",
    "version": 3
   },
   "file_extension": ".py",
   "mimetype": "text/x-python",
   "name": "python",
   "nbconvert_exporter": "python",
   "pygments_lexer": "ipython3",
   "version": "3.8.3"
  }
 },
 "nbformat": 4,
 "nbformat_minor": 4
}
